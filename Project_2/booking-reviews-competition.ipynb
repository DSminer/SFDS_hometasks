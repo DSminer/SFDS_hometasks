{
 "cells": [
  {
   "cell_type": "code",
   "execution_count": 1,
   "metadata": {
    "_cell_guid": "b1076dfc-b9ad-4769-8c92-a6c4dae69d19",
    "_uuid": "8f2839f25d086af736a60e9eeb907d3b93b6e0e5",
    "execution": {
     "iopub.execute_input": "2022-07-14T15:29:06.498172Z",
     "iopub.status.busy": "2022-07-14T15:29:06.497781Z",
     "iopub.status.idle": "2022-07-14T15:29:06.529887Z",
     "shell.execute_reply": "2022-07-14T15:29:06.528528Z",
     "shell.execute_reply.started": "2022-07-14T15:29:06.498126Z"
    },
    "pycharm": {
     "name": "#%%\n"
    },
    "trusted": true
   },
   "outputs": [],
   "source": [
    "import numpy as np\n",
    "import pandas as pd\n",
    "import re\n",
    "\n",
    "# Visualization\n",
    "from termcolor import colored\n",
    "import matplotlib.pyplot as plt\n",
    "import seaborn as sns \n",
    "%matplotlib inline\n",
    "import plotly\n",
    "import plotly.express as px\n",
    "\n",
    "# Import geo services\n",
    "import geocoder\n",
    "import geopy\n",
    "from geopy import distance\n",
    "import folium\n",
    "from folium import Choropleth, Circle, Marker\n",
    "from folium.plugins import HeatMap, MarkerCluster\n",
    "\n",
    "# Загружаем специальный удобный инструмент для разделения датасета:\n",
    "from sklearn.model_selection import train_test_split\n",
    "\n",
    "# Input data files are available in the read-only \"../input/\" directory\n",
    "# For example, running this (by clicking run or pressing Shift+Enter) will list all files under the input directory\n",
    "\n",
    "import os\n",
    "for dirname, _, filenames in os.walk(\"/Data\"):\n",
    "    for filename in filenames:\n",
    "        print(os.path.join(dirname, filename))\n",
    "        \n",
    "\n",
    "RANDOM_SEED = 42  # фиксируем RANDOM_SEED для воспроизводимости\n",
    "\n"
   ]
  },
  {
   "cell_type": "code",
   "execution_count": null,
   "metadata": {
    "pycharm": {
     "name": "#%%\n"
    }
   },
   "outputs": [],
   "source": [
    "!pip freeze > requirements.txt  # фиксируем версию пакетов"
   ]
  },
  {
   "cell_type": "code",
   "execution_count": 64,
   "metadata": {
    "collapsed": false,
    "pycharm": {
     "name": "#%%\n"
    }
   },
   "outputs": [
    {
     "data": {
      "text/plain": [
       "{'encoding': 'ascii', 'confidence': 1.0, 'language': ''}"
      ]
     },
     "execution_count": 64,
     "metadata": {},
     "output_type": "execute_result"
    }
   ],
   "source": [
    "import chardet.universaldetector\n",
    "detector = chardet.UniversalDetector()\n",
    "with open(DATA_DIR+\"/hotels_train.csv\", \"rb\") as fh:\n",
    "    for line in fh:\n",
    "        detector.feed(line)\n",
    "        if detector.done:\n",
    "            break\n",
    "detector.close()"
   ]
  },
  {
   "cell_type": "code",
   "execution_count": 2,
   "metadata": {
    "execution": {
     "iopub.execute_input": "2022-07-14T15:58:03.340929Z",
     "iopub.status.busy": "2022-07-14T15:58:03.339946Z",
     "iopub.status.idle": "2022-07-14T15:58:07.233431Z",
     "shell.execute_reply": "2022-07-14T15:58:07.232445Z",
     "shell.execute_reply.started": "2022-07-14T15:58:03.340864Z"
    },
    "pycharm": {
     "name": "#%%\n"
    },
    "trusted": true
   },
   "outputs": [],
   "source": [
    "# Loading data\n",
    "\n",
    "DATA_DIR = \"Data/\"\n",
    "df_train = pd.read_csv(DATA_DIR+\"/hotels_train.csv\", encoding=\"ascii\") # датасет для обучения\n",
    "df_test = pd.read_csv(DATA_DIR+\"hotels_test.csv\", encoding=\"ascii\") # датасет для предсказания\n",
    "sample_submission = pd.read_csv(DATA_DIR+\"/submission.csv\", encoding=\"ascii\") # самбмишн"
   ]
  },
  {
   "cell_type": "code",
   "execution_count": 3,
   "metadata": {
    "execution": {
     "iopub.execute_input": "2022-07-14T15:58:07.235457Z",
     "iopub.status.busy": "2022-07-14T15:58:07.235173Z",
     "iopub.status.idle": "2022-07-14T15:58:07.436915Z",
     "shell.execute_reply": "2022-07-14T15:58:07.435840Z",
     "shell.execute_reply.started": "2022-07-14T15:58:07.235425Z"
    },
    "pycharm": {
     "name": "#%%\n"
    },
    "trusted": true
   },
   "outputs": [
    {
     "name": "stdout",
     "output_type": "stream",
     "text": [
      "<class 'pandas.core.frame.DataFrame'>\n",
      "RangeIndex: 386803 entries, 0 to 386802\n",
      "Data columns (total 17 columns):\n",
      " #   Column                                      Non-Null Count   Dtype  \n",
      "---  ------                                      --------------   -----  \n",
      " 0   hotel_address                               386803 non-null  object \n",
      " 1   additional_number_of_scoring                386803 non-null  int64  \n",
      " 2   review_date                                 386803 non-null  object \n",
      " 3   average_score                               386803 non-null  float64\n",
      " 4   hotel_name                                  386803 non-null  object \n",
      " 5   reviewer_nationality                        386803 non-null  object \n",
      " 6   negative_review                             386803 non-null  object \n",
      " 7   review_total_negative_word_counts           386803 non-null  int64  \n",
      " 8   total_number_of_reviews                     386803 non-null  int64  \n",
      " 9   positive_review                             386803 non-null  object \n",
      " 10  review_total_positive_word_counts           386803 non-null  int64  \n",
      " 11  total_number_of_reviews_reviewer_has_given  386803 non-null  int64  \n",
      " 12  reviewer_score                              386803 non-null  float64\n",
      " 13  tags                                        386803 non-null  object \n",
      " 14  days_since_review                           386803 non-null  object \n",
      " 15  lat                                         384355 non-null  float64\n",
      " 16  lng                                         384355 non-null  float64\n",
      "dtypes: float64(4), int64(5), object(8)\n",
      "memory usage: 50.2+ MB\n"
     ]
    }
   ],
   "source": [
    "df_train.info()"
   ]
  },
  {
   "cell_type": "code",
   "execution_count": 4,
   "metadata": {
    "execution": {
     "iopub.execute_input": "2022-07-14T15:58:07.438806Z",
     "iopub.status.busy": "2022-07-14T15:58:07.438470Z",
     "iopub.status.idle": "2022-07-14T15:58:07.464892Z",
     "shell.execute_reply": "2022-07-14T15:58:07.463816Z",
     "shell.execute_reply.started": "2022-07-14T15:58:07.438760Z"
    },
    "pycharm": {
     "name": "#%%\n"
    },
    "trusted": true
   },
   "outputs": [
    {
     "data": {
      "text/plain": "                                       hotel_address  \\\n0  Stratton Street Mayfair Westminster Borough Lo...   \n1  130 134 Southampton Row Camden London WC1B 5AF...   \n\n   additional_number_of_scoring review_date  average_score  \\\n0                           581   2/19/2016            8.4   \n1                           299   1/12/2017            8.3   \n\n                        hotel_name reviewer_nationality  negative_review  \\\n0               The May Fair Hotel      United Kingdom          Leaving    \n1  Mercure London Bloomsbury Hotel      United Kingdom    poor breakfast   \n\n   review_total_negative_word_counts  total_number_of_reviews  \\\n0                                  3                     1994   \n1                                  3                     1361   \n\n       positive_review  review_total_positive_word_counts  \\\n0   Staff were amazing                                  4   \n1             location                                  2   \n\n   total_number_of_reviews_reviewer_has_given  reviewer_score  \\\n0                                           7            10.0   \n1                                          14             6.3   \n\n                                                tags days_since_review  \\\n0  [' Leisure trip ', ' Couple ', ' Studio Suite ...           531 day   \n1  [' Business trip ', ' Couple ', ' Standard Dou...           203 day   \n\n         lat       lng  \n0  51.507894 -0.143671  \n1  51.521009 -0.123097  ",
      "text/html": "<div>\n<style scoped>\n    .dataframe tbody tr th:only-of-type {\n        vertical-align: middle;\n    }\n\n    .dataframe tbody tr th {\n        vertical-align: top;\n    }\n\n    .dataframe thead th {\n        text-align: right;\n    }\n</style>\n<table border=\"1\" class=\"dataframe\">\n  <thead>\n    <tr style=\"text-align: right;\">\n      <th></th>\n      <th>hotel_address</th>\n      <th>additional_number_of_scoring</th>\n      <th>review_date</th>\n      <th>average_score</th>\n      <th>hotel_name</th>\n      <th>reviewer_nationality</th>\n      <th>negative_review</th>\n      <th>review_total_negative_word_counts</th>\n      <th>total_number_of_reviews</th>\n      <th>positive_review</th>\n      <th>review_total_positive_word_counts</th>\n      <th>total_number_of_reviews_reviewer_has_given</th>\n      <th>reviewer_score</th>\n      <th>tags</th>\n      <th>days_since_review</th>\n      <th>lat</th>\n      <th>lng</th>\n    </tr>\n  </thead>\n  <tbody>\n    <tr>\n      <th>0</th>\n      <td>Stratton Street Mayfair Westminster Borough Lo...</td>\n      <td>581</td>\n      <td>2/19/2016</td>\n      <td>8.4</td>\n      <td>The May Fair Hotel</td>\n      <td>United Kingdom</td>\n      <td>Leaving</td>\n      <td>3</td>\n      <td>1994</td>\n      <td>Staff were amazing</td>\n      <td>4</td>\n      <td>7</td>\n      <td>10.0</td>\n      <td>[' Leisure trip ', ' Couple ', ' Studio Suite ...</td>\n      <td>531 day</td>\n      <td>51.507894</td>\n      <td>-0.143671</td>\n    </tr>\n    <tr>\n      <th>1</th>\n      <td>130 134 Southampton Row Camden London WC1B 5AF...</td>\n      <td>299</td>\n      <td>1/12/2017</td>\n      <td>8.3</td>\n      <td>Mercure London Bloomsbury Hotel</td>\n      <td>United Kingdom</td>\n      <td>poor breakfast</td>\n      <td>3</td>\n      <td>1361</td>\n      <td>location</td>\n      <td>2</td>\n      <td>14</td>\n      <td>6.3</td>\n      <td>[' Business trip ', ' Couple ', ' Standard Dou...</td>\n      <td>203 day</td>\n      <td>51.521009</td>\n      <td>-0.123097</td>\n    </tr>\n  </tbody>\n</table>\n</div>"
     },
     "execution_count": 4,
     "metadata": {},
     "output_type": "execute_result"
    }
   ],
   "source": [
    "df_train.head(2)"
   ]
  },
  {
   "cell_type": "code",
   "execution_count": 5,
   "metadata": {
    "execution": {
     "iopub.execute_input": "2022-07-14T15:58:07.507274Z",
     "iopub.status.busy": "2022-07-14T15:58:07.506516Z",
     "iopub.status.idle": "2022-07-14T15:58:07.579253Z",
     "shell.execute_reply": "2022-07-14T15:58:07.578273Z",
     "shell.execute_reply.started": "2022-07-14T15:58:07.507227Z"
    },
    "pycharm": {
     "name": "#%%\n"
    },
    "trusted": true
   },
   "outputs": [
    {
     "name": "stdout",
     "output_type": "stream",
     "text": [
      "<class 'pandas.core.frame.DataFrame'>\n",
      "RangeIndex: 128935 entries, 0 to 128934\n",
      "Data columns (total 16 columns):\n",
      " #   Column                                      Non-Null Count   Dtype  \n",
      "---  ------                                      --------------   -----  \n",
      " 0   hotel_address                               128935 non-null  object \n",
      " 1   additional_number_of_scoring                128935 non-null  int64  \n",
      " 2   review_date                                 128935 non-null  object \n",
      " 3   average_score                               128935 non-null  float64\n",
      " 4   hotel_name                                  128935 non-null  object \n",
      " 5   reviewer_nationality                        128935 non-null  object \n",
      " 6   negative_review                             128935 non-null  object \n",
      " 7   review_total_negative_word_counts           128935 non-null  int64  \n",
      " 8   total_number_of_reviews                     128935 non-null  int64  \n",
      " 9   positive_review                             128935 non-null  object \n",
      " 10  review_total_positive_word_counts           128935 non-null  int64  \n",
      " 11  total_number_of_reviews_reviewer_has_given  128935 non-null  int64  \n",
      " 12  tags                                        128935 non-null  object \n",
      " 13  days_since_review                           128935 non-null  object \n",
      " 14  lat                                         128115 non-null  float64\n",
      " 15  lng                                         128115 non-null  float64\n",
      "dtypes: float64(3), int64(5), object(8)\n",
      "memory usage: 15.7+ MB\n"
     ]
    }
   ],
   "source": [
    "df_test.info()"
   ]
  },
  {
   "cell_type": "code",
   "execution_count": 6,
   "metadata": {
    "execution": {
     "iopub.execute_input": "2022-07-14T15:58:13.723682Z",
     "iopub.status.busy": "2022-07-14T15:58:13.723373Z",
     "iopub.status.idle": "2022-07-14T15:58:13.742117Z",
     "shell.execute_reply": "2022-07-14T15:58:13.740938Z",
     "shell.execute_reply.started": "2022-07-14T15:58:13.723645Z"
    },
    "pycharm": {
     "name": "#%%\n"
    },
    "trusted": true
   },
   "outputs": [
    {
     "data": {
      "text/plain": "                                       hotel_address  \\\n0                 Via Senigallia 6 20161 Milan Italy   \n1  Arlandaweg 10 Westpoort 1043 EW Amsterdam Neth...   \n\n   additional_number_of_scoring review_date  average_score         hotel_name  \\\n0                           904   7/21/2017            8.1     Hotel Da Vinci   \n1                           612  12/12/2016            8.6  Urban Lodge Hotel   \n\n  reviewer_nationality                                    negative_review  \\\n0      United Kingdom    Would have appreciated a shop in the hotel th...   \n1             Belgium         No tissue paper box was present at the room   \n\n   review_total_negative_word_counts  total_number_of_reviews  \\\n0                                 52                    16670   \n1                                 10                     5018   \n\n                                     positive_review  \\\n0   Hotel was great clean friendly staff free bre...   \n1                                        No Positive   \n\n   review_total_positive_word_counts  \\\n0                                 62   \n1                                  0   \n\n   total_number_of_reviews_reviewer_has_given  \\\n0                                           1   \n1                                           7   \n\n                                                tags days_since_review  \\\n0  [' Leisure trip ', ' Couple ', ' Double Room '...           13 days   \n1  [' Leisure trip ', ' Group ', ' Triple Room ',...           234 day   \n\n         lat       lng  \n0  45.533137  9.171102  \n1  52.385649  4.834443  ",
      "text/html": "<div>\n<style scoped>\n    .dataframe tbody tr th:only-of-type {\n        vertical-align: middle;\n    }\n\n    .dataframe tbody tr th {\n        vertical-align: top;\n    }\n\n    .dataframe thead th {\n        text-align: right;\n    }\n</style>\n<table border=\"1\" class=\"dataframe\">\n  <thead>\n    <tr style=\"text-align: right;\">\n      <th></th>\n      <th>hotel_address</th>\n      <th>additional_number_of_scoring</th>\n      <th>review_date</th>\n      <th>average_score</th>\n      <th>hotel_name</th>\n      <th>reviewer_nationality</th>\n      <th>negative_review</th>\n      <th>review_total_negative_word_counts</th>\n      <th>total_number_of_reviews</th>\n      <th>positive_review</th>\n      <th>review_total_positive_word_counts</th>\n      <th>total_number_of_reviews_reviewer_has_given</th>\n      <th>tags</th>\n      <th>days_since_review</th>\n      <th>lat</th>\n      <th>lng</th>\n    </tr>\n  </thead>\n  <tbody>\n    <tr>\n      <th>0</th>\n      <td>Via Senigallia 6 20161 Milan Italy</td>\n      <td>904</td>\n      <td>7/21/2017</td>\n      <td>8.1</td>\n      <td>Hotel Da Vinci</td>\n      <td>United Kingdom</td>\n      <td>Would have appreciated a shop in the hotel th...</td>\n      <td>52</td>\n      <td>16670</td>\n      <td>Hotel was great clean friendly staff free bre...</td>\n      <td>62</td>\n      <td>1</td>\n      <td>[' Leisure trip ', ' Couple ', ' Double Room '...</td>\n      <td>13 days</td>\n      <td>45.533137</td>\n      <td>9.171102</td>\n    </tr>\n    <tr>\n      <th>1</th>\n      <td>Arlandaweg 10 Westpoort 1043 EW Amsterdam Neth...</td>\n      <td>612</td>\n      <td>12/12/2016</td>\n      <td>8.6</td>\n      <td>Urban Lodge Hotel</td>\n      <td>Belgium</td>\n      <td>No tissue paper box was present at the room</td>\n      <td>10</td>\n      <td>5018</td>\n      <td>No Positive</td>\n      <td>0</td>\n      <td>7</td>\n      <td>[' Leisure trip ', ' Group ', ' Triple Room ',...</td>\n      <td>234 day</td>\n      <td>52.385649</td>\n      <td>4.834443</td>\n    </tr>\n  </tbody>\n</table>\n</div>"
     },
     "execution_count": 6,
     "metadata": {},
     "output_type": "execute_result"
    }
   ],
   "source": [
    "df_test.head(2)"
   ]
  },
  {
   "cell_type": "code",
   "execution_count": 7,
   "metadata": {
    "execution": {
     "iopub.execute_input": "2022-07-14T15:58:15.068959Z",
     "iopub.status.busy": "2022-07-14T15:58:15.068115Z",
     "iopub.status.idle": "2022-07-14T15:58:15.078291Z",
     "shell.execute_reply": "2022-07-14T15:58:15.077262Z",
     "shell.execute_reply.started": "2022-07-14T15:58:15.068912Z"
    },
    "pycharm": {
     "name": "#%%\n"
    },
    "trusted": true
   },
   "outputs": [
    {
     "data": {
      "text/plain": "   reviewer_score      id\n0               1  488440\n1              10  274649",
      "text/html": "<div>\n<style scoped>\n    .dataframe tbody tr th:only-of-type {\n        vertical-align: middle;\n    }\n\n    .dataframe tbody tr th {\n        vertical-align: top;\n    }\n\n    .dataframe thead th {\n        text-align: right;\n    }\n</style>\n<table border=\"1\" class=\"dataframe\">\n  <thead>\n    <tr style=\"text-align: right;\">\n      <th></th>\n      <th>reviewer_score</th>\n      <th>id</th>\n    </tr>\n  </thead>\n  <tbody>\n    <tr>\n      <th>0</th>\n      <td>1</td>\n      <td>488440</td>\n    </tr>\n    <tr>\n      <th>1</th>\n      <td>10</td>\n      <td>274649</td>\n    </tr>\n  </tbody>\n</table>\n</div>"
     },
     "execution_count": 7,
     "metadata": {},
     "output_type": "execute_result"
    }
   ],
   "source": [
    "sample_submission.head(2)"
   ]
  },
  {
   "cell_type": "code",
   "execution_count": 8,
   "metadata": {
    "execution": {
     "iopub.execute_input": "2022-07-14T15:58:17.562004Z",
     "iopub.status.busy": "2022-07-14T15:58:17.561291Z",
     "iopub.status.idle": "2022-07-14T15:58:17.576190Z",
     "shell.execute_reply": "2022-07-14T15:58:17.575168Z",
     "shell.execute_reply.started": "2022-07-14T15:58:17.561950Z"
    },
    "pycharm": {
     "name": "#%%\n"
    },
    "trusted": true
   },
   "outputs": [
    {
     "name": "stdout",
     "output_type": "stream",
     "text": [
      "<class 'pandas.core.frame.DataFrame'>\n",
      "RangeIndex: 128935 entries, 0 to 128934\n",
      "Data columns (total 2 columns):\n",
      " #   Column          Non-Null Count   Dtype\n",
      "---  ------          --------------   -----\n",
      " 0   reviewer_score  128935 non-null  int64\n",
      " 1   id              128935 non-null  int64\n",
      "dtypes: int64(2)\n",
      "memory usage: 2.0 MB\n"
     ]
    }
   ],
   "source": [
    "sample_submission.info()"
   ]
  },
  {
   "cell_type": "code",
   "execution_count": 9,
   "metadata": {
    "execution": {
     "iopub.execute_input": "2022-07-14T15:58:20.292741Z",
     "iopub.status.busy": "2022-07-14T15:58:20.291867Z",
     "iopub.status.idle": "2022-07-14T15:58:20.787225Z",
     "shell.execute_reply": "2022-07-14T15:58:20.786159Z",
     "shell.execute_reply.started": "2022-07-14T15:58:20.292675Z"
    },
    "pycharm": {
     "name": "#%%\n"
    },
    "trusted": true
   },
   "outputs": [],
   "source": [
    "# Join train and test data for feature engineering\n",
    "\n",
    "df_train[\"sample\"] = 1 # train mark\n",
    "df_test[\"sample\"] = 0 # test mark\n",
    "df_test[\"reviewer_score\"] = 0 # we have to predict 'reviewer_score', so now it would be filled with 0 in test data\n",
    "\n",
    "data = pd.concat([df_train, df_test], sort=False).reset_index(drop=True) # join"
   ]
  },
  {
   "cell_type": "code",
   "execution_count": 10,
   "metadata": {
    "execution": {
     "iopub.execute_input": "2022-07-14T16:00:26.289073Z",
     "iopub.status.busy": "2022-07-14T16:00:26.288263Z",
     "iopub.status.idle": "2022-07-14T16:00:26.526687Z",
     "shell.execute_reply": "2022-07-14T16:00:26.525945Z",
     "shell.execute_reply.started": "2022-07-14T16:00:26.289026Z"
    },
    "pycharm": {
     "name": "#%%\n"
    },
    "trusted": true
   },
   "outputs": [
    {
     "name": "stdout",
     "output_type": "stream",
     "text": [
      "<class 'pandas.core.frame.DataFrame'>\n",
      "RangeIndex: 515738 entries, 0 to 515737\n",
      "Data columns (total 18 columns):\n",
      " #   Column                                      Non-Null Count   Dtype  \n",
      "---  ------                                      --------------   -----  \n",
      " 0   hotel_address                               515738 non-null  object \n",
      " 1   additional_number_of_scoring                515738 non-null  int64  \n",
      " 2   review_date                                 515738 non-null  object \n",
      " 3   average_score                               515738 non-null  float64\n",
      " 4   hotel_name                                  515738 non-null  object \n",
      " 5   reviewer_nationality                        515738 non-null  object \n",
      " 6   negative_review                             515738 non-null  object \n",
      " 7   review_total_negative_word_counts           515738 non-null  int64  \n",
      " 8   total_number_of_reviews                     515738 non-null  int64  \n",
      " 9   positive_review                             515738 non-null  object \n",
      " 10  review_total_positive_word_counts           515738 non-null  int64  \n",
      " 11  total_number_of_reviews_reviewer_has_given  515738 non-null  int64  \n",
      " 12  reviewer_score                              515738 non-null  float64\n",
      " 13  tags                                        515738 non-null  object \n",
      " 14  days_since_review                           515738 non-null  object \n",
      " 15  lat                                         512470 non-null  float64\n",
      " 16  lng                                         512470 non-null  float64\n",
      " 17  sample                                      515738 non-null  int64  \n",
      "dtypes: float64(4), int64(6), object(8)\n",
      "memory usage: 70.8+ MB\n"
     ]
    }
   ],
   "source": [
    "data.info()"
   ]
  },
  {
   "cell_type": "code",
   "execution_count": 11,
   "metadata": {
    "execution": {
     "iopub.execute_input": "2022-07-14T12:19:04.663223Z",
     "iopub.status.busy": "2022-07-14T12:19:04.662679Z",
     "iopub.status.idle": "2022-07-14T12:19:04.884510Z",
     "shell.execute_reply": "2022-07-14T12:19:04.883654Z",
     "shell.execute_reply.started": "2022-07-14T12:19:04.663188Z"
    },
    "pycharm": {
     "name": "#%%\n"
    },
    "trusted": true
   },
   "outputs": [
    {
     "data": {
      "text/plain": "       additional_number_of_scoring  average_score  \\\ncount                 515738.000000  515738.000000   \nmean                     498.081836       8.397487   \nstd                      500.538467       0.548048   \nmin                        1.000000       5.200000   \n25%                      169.000000       8.100000   \n50%                      341.000000       8.400000   \n75%                      660.000000       8.800000   \nmax                     2682.000000       9.800000   \n\n       review_total_negative_word_counts  total_number_of_reviews  \\\ncount                      515738.000000            515738.000000   \nmean                           18.539450              2743.743944   \nstd                            29.690831              2317.464868   \nmin                             0.000000                43.000000   \n25%                             2.000000              1161.000000   \n50%                             9.000000              2134.000000   \n75%                            23.000000              3613.000000   \nmax                           408.000000             16670.000000   \n\n       review_total_positive_word_counts  \\\ncount                      515738.000000   \nmean                           17.776458   \nstd                            21.804185   \nmin                             0.000000   \n25%                             5.000000   \n50%                            11.000000   \n75%                            22.000000   \nmax                           395.000000   \n\n       total_number_of_reviews_reviewer_has_given  reviewer_score  \\\ncount                               515738.000000   515738.000000   \nmean                                     7.166001        6.297672   \nstd                                     11.040228        3.902295   \nmin                                      1.000000        0.000000   \n25%                                      1.000000        0.625000   \n50%                                      3.000000        7.900000   \n75%                                      8.000000        9.600000   \nmax                                    355.000000       10.000000   \n\n                 lat            lng         sample  \ncount  512470.000000  512470.000000  515738.000000  \nmean       49.442439       2.823803       0.749999  \nstd         3.466325       4.579425       0.433014  \nmin        41.328376      -0.369758       0.000000  \n25%        48.214662      -0.143372       0.250000  \n50%        51.499981       0.010607       1.000000  \n75%        51.516288       4.834443       1.000000  \nmax        52.400181      16.429233       1.000000  ",
      "text/html": "<div>\n<style scoped>\n    .dataframe tbody tr th:only-of-type {\n        vertical-align: middle;\n    }\n\n    .dataframe tbody tr th {\n        vertical-align: top;\n    }\n\n    .dataframe thead th {\n        text-align: right;\n    }\n</style>\n<table border=\"1\" class=\"dataframe\">\n  <thead>\n    <tr style=\"text-align: right;\">\n      <th></th>\n      <th>additional_number_of_scoring</th>\n      <th>average_score</th>\n      <th>review_total_negative_word_counts</th>\n      <th>total_number_of_reviews</th>\n      <th>review_total_positive_word_counts</th>\n      <th>total_number_of_reviews_reviewer_has_given</th>\n      <th>reviewer_score</th>\n      <th>lat</th>\n      <th>lng</th>\n      <th>sample</th>\n    </tr>\n  </thead>\n  <tbody>\n    <tr>\n      <th>count</th>\n      <td>515738.000000</td>\n      <td>515738.000000</td>\n      <td>515738.000000</td>\n      <td>515738.000000</td>\n      <td>515738.000000</td>\n      <td>515738.000000</td>\n      <td>515738.000000</td>\n      <td>512470.000000</td>\n      <td>512470.000000</td>\n      <td>515738.000000</td>\n    </tr>\n    <tr>\n      <th>mean</th>\n      <td>498.081836</td>\n      <td>8.397487</td>\n      <td>18.539450</td>\n      <td>2743.743944</td>\n      <td>17.776458</td>\n      <td>7.166001</td>\n      <td>6.297672</td>\n      <td>49.442439</td>\n      <td>2.823803</td>\n      <td>0.749999</td>\n    </tr>\n    <tr>\n      <th>std</th>\n      <td>500.538467</td>\n      <td>0.548048</td>\n      <td>29.690831</td>\n      <td>2317.464868</td>\n      <td>21.804185</td>\n      <td>11.040228</td>\n      <td>3.902295</td>\n      <td>3.466325</td>\n      <td>4.579425</td>\n      <td>0.433014</td>\n    </tr>\n    <tr>\n      <th>min</th>\n      <td>1.000000</td>\n      <td>5.200000</td>\n      <td>0.000000</td>\n      <td>43.000000</td>\n      <td>0.000000</td>\n      <td>1.000000</td>\n      <td>0.000000</td>\n      <td>41.328376</td>\n      <td>-0.369758</td>\n      <td>0.000000</td>\n    </tr>\n    <tr>\n      <th>25%</th>\n      <td>169.000000</td>\n      <td>8.100000</td>\n      <td>2.000000</td>\n      <td>1161.000000</td>\n      <td>5.000000</td>\n      <td>1.000000</td>\n      <td>0.625000</td>\n      <td>48.214662</td>\n      <td>-0.143372</td>\n      <td>0.250000</td>\n    </tr>\n    <tr>\n      <th>50%</th>\n      <td>341.000000</td>\n      <td>8.400000</td>\n      <td>9.000000</td>\n      <td>2134.000000</td>\n      <td>11.000000</td>\n      <td>3.000000</td>\n      <td>7.900000</td>\n      <td>51.499981</td>\n      <td>0.010607</td>\n      <td>1.000000</td>\n    </tr>\n    <tr>\n      <th>75%</th>\n      <td>660.000000</td>\n      <td>8.800000</td>\n      <td>23.000000</td>\n      <td>3613.000000</td>\n      <td>22.000000</td>\n      <td>8.000000</td>\n      <td>9.600000</td>\n      <td>51.516288</td>\n      <td>4.834443</td>\n      <td>1.000000</td>\n    </tr>\n    <tr>\n      <th>max</th>\n      <td>2682.000000</td>\n      <td>9.800000</td>\n      <td>408.000000</td>\n      <td>16670.000000</td>\n      <td>395.000000</td>\n      <td>355.000000</td>\n      <td>10.000000</td>\n      <td>52.400181</td>\n      <td>16.429233</td>\n      <td>1.000000</td>\n    </tr>\n  </tbody>\n</table>\n</div>"
     },
     "execution_count": 11,
     "metadata": {},
     "output_type": "execute_result"
    }
   ],
   "source": [
    "data.describe()"
   ]
  },
  {
   "cell_type": "code",
   "execution_count": 12,
   "metadata": {
    "execution": {
     "iopub.execute_input": "2022-07-14T12:19:06.785897Z",
     "iopub.status.busy": "2022-07-14T12:19:06.785614Z",
     "iopub.status.idle": "2022-07-14T12:19:08.723612Z",
     "shell.execute_reply": "2022-07-14T12:19:08.722763Z",
     "shell.execute_reply.started": "2022-07-14T12:19:06.785865Z"
    },
    "pycharm": {
     "name": "#%%\n"
    },
    "trusted": true
   },
   "outputs": [
    {
     "data": {
      "text/plain": "                                            hotel_address review_date  \\\ncount                                              515738      515738   \nunique                                               1493         731   \ntop     163 Marsh Wall Docklands Tower Hamlets London ...    8/2/2017   \nfreq                                                 4789        2585   \n\n                                        hotel_name reviewer_nationality  \\\ncount                                       515738               515738   \nunique                                        1492                  227   \ntop     Britannia International Hotel Canary Wharf      United Kingdom    \nfreq                                          4789               245246   \n\n       negative_review positive_review  \\\ncount           515738          515738   \nunique          330011          412601   \ntop        No Negative     No Positive   \nfreq            127890           35946   \n\n                                                     tags days_since_review  \ncount                                              515738            515738  \nunique                                              55242               731  \ntop     [' Leisure trip ', ' Couple ', ' Double Room '...            1 days  \nfreq                                                 5101              2585  ",
      "text/html": "<div>\n<style scoped>\n    .dataframe tbody tr th:only-of-type {\n        vertical-align: middle;\n    }\n\n    .dataframe tbody tr th {\n        vertical-align: top;\n    }\n\n    .dataframe thead th {\n        text-align: right;\n    }\n</style>\n<table border=\"1\" class=\"dataframe\">\n  <thead>\n    <tr style=\"text-align: right;\">\n      <th></th>\n      <th>hotel_address</th>\n      <th>review_date</th>\n      <th>hotel_name</th>\n      <th>reviewer_nationality</th>\n      <th>negative_review</th>\n      <th>positive_review</th>\n      <th>tags</th>\n      <th>days_since_review</th>\n    </tr>\n  </thead>\n  <tbody>\n    <tr>\n      <th>count</th>\n      <td>515738</td>\n      <td>515738</td>\n      <td>515738</td>\n      <td>515738</td>\n      <td>515738</td>\n      <td>515738</td>\n      <td>515738</td>\n      <td>515738</td>\n    </tr>\n    <tr>\n      <th>unique</th>\n      <td>1493</td>\n      <td>731</td>\n      <td>1492</td>\n      <td>227</td>\n      <td>330011</td>\n      <td>412601</td>\n      <td>55242</td>\n      <td>731</td>\n    </tr>\n    <tr>\n      <th>top</th>\n      <td>163 Marsh Wall Docklands Tower Hamlets London ...</td>\n      <td>8/2/2017</td>\n      <td>Britannia International Hotel Canary Wharf</td>\n      <td>United Kingdom</td>\n      <td>No Negative</td>\n      <td>No Positive</td>\n      <td>[' Leisure trip ', ' Couple ', ' Double Room '...</td>\n      <td>1 days</td>\n    </tr>\n    <tr>\n      <th>freq</th>\n      <td>4789</td>\n      <td>2585</td>\n      <td>4789</td>\n      <td>245246</td>\n      <td>127890</td>\n      <td>35946</td>\n      <td>5101</td>\n      <td>2585</td>\n    </tr>\n  </tbody>\n</table>\n</div>"
     },
     "execution_count": 12,
     "metadata": {},
     "output_type": "execute_result"
    }
   ],
   "source": [
    "data.describe(include=\"object\")"
   ]
  },
  {
   "cell_type": "code",
   "execution_count": 156,
   "metadata": {
    "collapsed": false,
    "pycharm": {
     "name": "#%%\n"
    }
   },
   "outputs": [
    {
     "data": {
      "text/plain": "                                            hotel_address  \\\n122      Savoyenstra e 2 16 Ottakring 1160 Vienna Austria   \n566          23 Rue Damr mont 18th arr 75018 Paris France   \n724     Josefst dter Stra e 10 12 08 Josefstadt 1080 V...   \n754     W hringer Stra e 33 35 09 Alsergrund 1090 Vien...   \n1137     4 rue de la P pini re 8th arr 75008 Paris France   \n...                                                   ...   \n515042   4 rue de la P pini re 8th arr 75008 Paris France   \n515133  Sieveringer Stra e 4 19 D bling 1190 Vienna Au...   \n515273  Landstra er G rtel 5 03 Landstra e 1030 Vienna...   \n515600   Savoyenstra e 2 16 Ottakring 1160 Vienna Austria   \n515616  Josefst dter Stra e 10 12 08 Josefstadt 1080 V...   \n\n        additional_number_of_scoring review_date  average_score  \\\n122                               86   8/26/2016            8.3   \n566                               21   6/23/2016            8.3   \n724                              333    8/6/2015            8.3   \n754                              214    1/4/2016            7.8   \n1137                             172    1/5/2016            8.8   \n...                              ...         ...            ...   \n515042                           172    6/3/2016            8.8   \n515133                           115    8/8/2016            8.0   \n515273                           101    5/1/2017            8.5   \n515600                            86   7/19/2016            8.3   \n515616                           333    8/6/2016            8.3   \n\n                                               hotel_name  \\\n122     Austria Trend Hotel Schloss Wilhelminenberg Wi...   \n566                   Holiday Inn Paris Montmartre France   \n724            Flemings Selection Hotel Wien City Austria   \n754                                 Hotel Atlanta Austria   \n1137           Maison Albar Hotel Paris Le Diamond France   \n...                                                   ...   \n515042         Maison Albar Hotel Paris Le Diamond France   \n515133  Derag Livinghotel Kaiser Franz Joseph Vienna A...   \n515273                        Hotel Daniel Vienna Austria   \n515600  Austria Trend Hotel Schloss Wilhelminenberg Wi...   \n515616         Flemings Selection Hotel Wien City Austria   \n\n              reviewer_nationality  \\\n122      United States of America    \n566                United Kingdom    \n724          United Arab Emirates    \n754                       Romania    \n1137                   Luxembourg    \n...                            ...   \n515042             United Kingdom    \n515133                    Austria    \n515273                    Austria    \n515600                     France    \n515616                    Ireland    \n\n                                          negative_review  \\\n122                                              Not much   \n566                                                   N a   \n724                The bed so comfortable and room design   \n754                                           No Negative   \n1137       The breakfast was to minimalist for this price   \n...                                                   ...   \n515042   Cost was considerably cheaper had I booked cl...   \n515133                  internet did not work in the room   \n515273                                        No Negative   \n515600   There was no warm water The bathroom was very...   \n515616   The shower and toilet are in two separate roo...   \n\n        review_total_negative_word_counts  total_number_of_reviews  \\\n122                                     3                     1558   \n566                                     3                      298   \n724                                     8                     3672   \n754                                     0                     2724   \n1137                                    9                     1524   \n...                                   ...                      ...   \n515042                                 11                     1524   \n515133                                  8                     1496   \n515273                                  0                     1405   \n515600                                 12                     1558   \n515616                                 23                     3672   \n\n                                          positive_review  \\\n122                             Bugs in our room Bad Wifi   \n566        Great location friendly and very helpful staff   \n724      Lovely location and friendly staff Close the ...   \n754             location near the city centre quiet clean   \n1137                                          No Positive   \n...                                                   ...   \n515042   Staff friendly Excellent Location Clean and s...   \n515133                          location public transport   \n515273   Very alternative stylish and cozy place Excel...   \n515600                                        No Positive   \n515616   Comfortable clean rooms with exceptionally co...   \n\n        review_total_positive_word_counts  \\\n122                                     7   \n566                                     8   \n724                                    13   \n754                                     8   \n1137                                    0   \n...                                   ...   \n515042                                  9   \n515133                                  4   \n515273                                 37   \n515600                                  0   \n515616                                 34   \n\n        total_number_of_reviews_reviewer_has_given  reviewer_score  \\\n122                                              3             2.5   \n566                                              2             7.1   \n724                                              4             9.6   \n754                                             26             8.8   \n1137                                             1             8.8   \n...                                            ...             ...   \n515042                                           3             0.0   \n515133                                           1             0.0   \n515273                                          14             0.0   \n515600                                           2             0.0   \n515616                                           7             0.0   \n\n                                                     tags days_since_review  \\\n122     [' Leisure trip ', ' Couple ', ' Classic Room ...           342 day   \n566     [' Leisure trip ', ' Family with older childre...           406 day   \n724     [' Leisure trip ', ' Solo traveler ', ' Superi...           728 day   \n754     [' Leisure trip ', ' Family with older childre...           577 day   \n1137    [' Leisure trip ', ' Couple ', ' Executive Dou...           576 day   \n...                                                   ...               ...   \n515042  [' Leisure trip ', ' Couple ', ' Superior Doub...           426 day   \n515133  [' Leisure trip ', ' Couple ', ' Economy Doubl...           360 day   \n515273  [' Leisure trip ', ' Group ', ' Standard Doubl...           94 days   \n515600  [' Leisure trip ', ' Solo traveler ', ' Classi...           380 day   \n515616  [' Leisure trip ', ' Group ', ' Superior Doubl...           362 day   \n\n        lat  lng  sample  \n122     NaN  NaN       1  \n566     NaN  NaN       1  \n724     NaN  NaN       1  \n754     NaN  NaN       1  \n1137    NaN  NaN       1  \n...     ...  ...     ...  \n515042  NaN  NaN       0  \n515133  NaN  NaN       0  \n515273  NaN  NaN       0  \n515600  NaN  NaN       0  \n515616  NaN  NaN       0  \n\n[3268 rows x 18 columns]",
      "text/html": "<div>\n<style scoped>\n    .dataframe tbody tr th:only-of-type {\n        vertical-align: middle;\n    }\n\n    .dataframe tbody tr th {\n        vertical-align: top;\n    }\n\n    .dataframe thead th {\n        text-align: right;\n    }\n</style>\n<table border=\"1\" class=\"dataframe\">\n  <thead>\n    <tr style=\"text-align: right;\">\n      <th></th>\n      <th>hotel_address</th>\n      <th>additional_number_of_scoring</th>\n      <th>review_date</th>\n      <th>average_score</th>\n      <th>hotel_name</th>\n      <th>reviewer_nationality</th>\n      <th>negative_review</th>\n      <th>review_total_negative_word_counts</th>\n      <th>total_number_of_reviews</th>\n      <th>positive_review</th>\n      <th>review_total_positive_word_counts</th>\n      <th>total_number_of_reviews_reviewer_has_given</th>\n      <th>reviewer_score</th>\n      <th>tags</th>\n      <th>days_since_review</th>\n      <th>lat</th>\n      <th>lng</th>\n      <th>sample</th>\n    </tr>\n  </thead>\n  <tbody>\n    <tr>\n      <th>122</th>\n      <td>Savoyenstra e 2 16 Ottakring 1160 Vienna Austria</td>\n      <td>86</td>\n      <td>8/26/2016</td>\n      <td>8.3</td>\n      <td>Austria Trend Hotel Schloss Wilhelminenberg Wi...</td>\n      <td>United States of America</td>\n      <td>Not much</td>\n      <td>3</td>\n      <td>1558</td>\n      <td>Bugs in our room Bad Wifi</td>\n      <td>7</td>\n      <td>3</td>\n      <td>2.5</td>\n      <td>[' Leisure trip ', ' Couple ', ' Classic Room ...</td>\n      <td>342 day</td>\n      <td>NaN</td>\n      <td>NaN</td>\n      <td>1</td>\n    </tr>\n    <tr>\n      <th>566</th>\n      <td>23 Rue Damr mont 18th arr 75018 Paris France</td>\n      <td>21</td>\n      <td>6/23/2016</td>\n      <td>8.3</td>\n      <td>Holiday Inn Paris Montmartre France</td>\n      <td>United Kingdom</td>\n      <td>N a</td>\n      <td>3</td>\n      <td>298</td>\n      <td>Great location friendly and very helpful staff</td>\n      <td>8</td>\n      <td>2</td>\n      <td>7.1</td>\n      <td>[' Leisure trip ', ' Family with older childre...</td>\n      <td>406 day</td>\n      <td>NaN</td>\n      <td>NaN</td>\n      <td>1</td>\n    </tr>\n    <tr>\n      <th>724</th>\n      <td>Josefst dter Stra e 10 12 08 Josefstadt 1080 V...</td>\n      <td>333</td>\n      <td>8/6/2015</td>\n      <td>8.3</td>\n      <td>Flemings Selection Hotel Wien City Austria</td>\n      <td>United Arab Emirates</td>\n      <td>The bed so comfortable and room design</td>\n      <td>8</td>\n      <td>3672</td>\n      <td>Lovely location and friendly staff Close the ...</td>\n      <td>13</td>\n      <td>4</td>\n      <td>9.6</td>\n      <td>[' Leisure trip ', ' Solo traveler ', ' Superi...</td>\n      <td>728 day</td>\n      <td>NaN</td>\n      <td>NaN</td>\n      <td>1</td>\n    </tr>\n    <tr>\n      <th>754</th>\n      <td>W hringer Stra e 33 35 09 Alsergrund 1090 Vien...</td>\n      <td>214</td>\n      <td>1/4/2016</td>\n      <td>7.8</td>\n      <td>Hotel Atlanta Austria</td>\n      <td>Romania</td>\n      <td>No Negative</td>\n      <td>0</td>\n      <td>2724</td>\n      <td>location near the city centre quiet clean</td>\n      <td>8</td>\n      <td>26</td>\n      <td>8.8</td>\n      <td>[' Leisure trip ', ' Family with older childre...</td>\n      <td>577 day</td>\n      <td>NaN</td>\n      <td>NaN</td>\n      <td>1</td>\n    </tr>\n    <tr>\n      <th>1137</th>\n      <td>4 rue de la P pini re 8th arr 75008 Paris France</td>\n      <td>172</td>\n      <td>1/5/2016</td>\n      <td>8.8</td>\n      <td>Maison Albar Hotel Paris Le Diamond France</td>\n      <td>Luxembourg</td>\n      <td>The breakfast was to minimalist for this price</td>\n      <td>9</td>\n      <td>1524</td>\n      <td>No Positive</td>\n      <td>0</td>\n      <td>1</td>\n      <td>8.8</td>\n      <td>[' Leisure trip ', ' Couple ', ' Executive Dou...</td>\n      <td>576 day</td>\n      <td>NaN</td>\n      <td>NaN</td>\n      <td>1</td>\n    </tr>\n    <tr>\n      <th>...</th>\n      <td>...</td>\n      <td>...</td>\n      <td>...</td>\n      <td>...</td>\n      <td>...</td>\n      <td>...</td>\n      <td>...</td>\n      <td>...</td>\n      <td>...</td>\n      <td>...</td>\n      <td>...</td>\n      <td>...</td>\n      <td>...</td>\n      <td>...</td>\n      <td>...</td>\n      <td>...</td>\n      <td>...</td>\n      <td>...</td>\n    </tr>\n    <tr>\n      <th>515042</th>\n      <td>4 rue de la P pini re 8th arr 75008 Paris France</td>\n      <td>172</td>\n      <td>6/3/2016</td>\n      <td>8.8</td>\n      <td>Maison Albar Hotel Paris Le Diamond France</td>\n      <td>United Kingdom</td>\n      <td>Cost was considerably cheaper had I booked cl...</td>\n      <td>11</td>\n      <td>1524</td>\n      <td>Staff friendly Excellent Location Clean and s...</td>\n      <td>9</td>\n      <td>3</td>\n      <td>0.0</td>\n      <td>[' Leisure trip ', ' Couple ', ' Superior Doub...</td>\n      <td>426 day</td>\n      <td>NaN</td>\n      <td>NaN</td>\n      <td>0</td>\n    </tr>\n    <tr>\n      <th>515133</th>\n      <td>Sieveringer Stra e 4 19 D bling 1190 Vienna Au...</td>\n      <td>115</td>\n      <td>8/8/2016</td>\n      <td>8.0</td>\n      <td>Derag Livinghotel Kaiser Franz Joseph Vienna A...</td>\n      <td>Austria</td>\n      <td>internet did not work in the room</td>\n      <td>8</td>\n      <td>1496</td>\n      <td>location public transport</td>\n      <td>4</td>\n      <td>1</td>\n      <td>0.0</td>\n      <td>[' Leisure trip ', ' Couple ', ' Economy Doubl...</td>\n      <td>360 day</td>\n      <td>NaN</td>\n      <td>NaN</td>\n      <td>0</td>\n    </tr>\n    <tr>\n      <th>515273</th>\n      <td>Landstra er G rtel 5 03 Landstra e 1030 Vienna...</td>\n      <td>101</td>\n      <td>5/1/2017</td>\n      <td>8.5</td>\n      <td>Hotel Daniel Vienna Austria</td>\n      <td>Austria</td>\n      <td>No Negative</td>\n      <td>0</td>\n      <td>1405</td>\n      <td>Very alternative stylish and cozy place Excel...</td>\n      <td>37</td>\n      <td>14</td>\n      <td>0.0</td>\n      <td>[' Leisure trip ', ' Group ', ' Standard Doubl...</td>\n      <td>94 days</td>\n      <td>NaN</td>\n      <td>NaN</td>\n      <td>0</td>\n    </tr>\n    <tr>\n      <th>515600</th>\n      <td>Savoyenstra e 2 16 Ottakring 1160 Vienna Austria</td>\n      <td>86</td>\n      <td>7/19/2016</td>\n      <td>8.3</td>\n      <td>Austria Trend Hotel Schloss Wilhelminenberg Wi...</td>\n      <td>France</td>\n      <td>There was no warm water The bathroom was very...</td>\n      <td>12</td>\n      <td>1558</td>\n      <td>No Positive</td>\n      <td>0</td>\n      <td>2</td>\n      <td>0.0</td>\n      <td>[' Leisure trip ', ' Solo traveler ', ' Classi...</td>\n      <td>380 day</td>\n      <td>NaN</td>\n      <td>NaN</td>\n      <td>0</td>\n    </tr>\n    <tr>\n      <th>515616</th>\n      <td>Josefst dter Stra e 10 12 08 Josefstadt 1080 V...</td>\n      <td>333</td>\n      <td>8/6/2016</td>\n      <td>8.3</td>\n      <td>Flemings Selection Hotel Wien City Austria</td>\n      <td>Ireland</td>\n      <td>The shower and toilet are in two separate roo...</td>\n      <td>23</td>\n      <td>3672</td>\n      <td>Comfortable clean rooms with exceptionally co...</td>\n      <td>34</td>\n      <td>7</td>\n      <td>0.0</td>\n      <td>[' Leisure trip ', ' Group ', ' Superior Doubl...</td>\n      <td>362 day</td>\n      <td>NaN</td>\n      <td>NaN</td>\n      <td>0</td>\n    </tr>\n  </tbody>\n</table>\n<p>3268 rows × 18 columns</p>\n</div>"
     },
     "execution_count": 156,
     "metadata": {},
     "output_type": "execute_result"
    }
   ],
   "source": [
    "data[(data[\"lat\"].isna()) | (data[\"lng\"].isna())]"
   ]
  },
  {
   "cell_type": "code",
   "execution_count": 79,
   "metadata": {
    "collapsed": false,
    "pycharm": {
     "name": "#%%\n"
    }
   },
   "outputs": [
    {
     "data": {
      "text/html": [
       "<div>\n",
       "<style scoped>\n",
       "    .dataframe tbody tr th:only-of-type {\n",
       "        vertical-align: middle;\n",
       "    }\n",
       "\n",
       "    .dataframe tbody tr th {\n",
       "        vertical-align: top;\n",
       "    }\n",
       "\n",
       "    .dataframe thead th {\n",
       "        text-align: right;\n",
       "    }\n",
       "</style>\n",
       "<table border=\"1\" class=\"dataframe\">\n",
       "  <thead>\n",
       "    <tr style=\"text-align: right;\">\n",
       "      <th></th>\n",
       "      <th>hotel_address</th>\n",
       "    </tr>\n",
       "    <tr>\n",
       "      <th>hotel_name</th>\n",
       "      <th></th>\n",
       "    </tr>\n",
       "  </thead>\n",
       "  <tbody>\n",
       "    <tr>\n",
       "      <th>Hotel Regina</th>\n",
       "      <td>3</td>\n",
       "    </tr>\n",
       "  </tbody>\n",
       "</table>\n",
       "</div>"
      ],
      "text/plain": [
       "              hotel_address\n",
       "hotel_name                 \n",
       "Hotel Regina              3"
      ]
     },
     "execution_count": 79,
     "metadata": {},
     "output_type": "execute_result"
    }
   ],
   "source": [
    "#pivot_n = data[['hotel_address', 'hotel_name']].groupby(\n",
    "#    by='hotel_name'\n",
    "#).nunique()\n",
    "#pivot_n[pivot_n['hotel_address'] != 1]"
   ]
  },
  {
   "cell_type": "code",
   "execution_count": null,
   "metadata": {
    "pycharm": {
     "name": "#%%\n"
    }
   },
   "outputs": [],
   "source": [
    "#hotels['hotel_name'] = hotels.apply(\n",
    "#    lambda row: (row['hotel_name'] + ' ' + row['hotel_address'].split()[-2])\n",
    "#    if (row['hotel_name'] in name_rep)\n",
    "#    else row['hotel_name'], axis=1)"
   ]
  },
  {
   "cell_type": "code",
   "execution_count": 13,
   "metadata": {
    "pycharm": {
     "name": "#%%\n"
    }
   },
   "outputs": [
    {
     "name": "stdout",
     "output_type": "stream",
     "text": [
      "\u001B[34m\n",
      "Проверим полученные изменения:\u001B[0m\n"
     ]
    }
   ],
   "source": [
    "\n",
    "print(colored('\\nПроверим полученные изменения:', 'blue'))"
   ]
  },
  {
   "cell_type": "code",
   "execution_count": 15,
   "metadata": {
    "pycharm": {
     "name": "#%%\n"
    }
   },
   "outputs": [],
   "source": [
    "# Choosing country name from 'hotel_address'\n",
    "\n",
    "data[\"hotel_name\"] = data.apply(\n",
    "    lambda row: (row[\"hotel_name\"]+ \", \" +\n",
    "                 #(re.findall(r\".*[(\\d+)].(\\w*)\", row[\"hotel_address\"])[0]) + \" \" +\n",
    "                 (re.findall(r\".*[(\\d+)].\\w*.(\\w*.{,100})\", row[\"hotel_address\"])[0])), axis=1)\n",
    "    #if (x[\"lat\"]==0 | x[\"lng\"].isna())\n",
    "    #else x[\"hotel_name\"],"
   ]
  },
  {
   "cell_type": "code",
   "execution_count": 128,
   "outputs": [
    {
     "data": {
      "text/plain": "'sts od am'"
     },
     "execution_count": 128,
     "metadata": {},
     "output_type": "execute_result"
    }
   ],
   "source": [
    "ln = \"jnelknw 7846 wef 8746  sts od am\"\n",
    "(re.findall(r\".*[(\\d+)].\\w*.(\\w*.{,100})\", ln)[0])"
   ],
   "metadata": {
    "collapsed": false,
    "pycharm": {
     "name": "#%%\n"
    }
   }
  },
  {
   "cell_type": "code",
   "execution_count": 59,
   "metadata": {
    "execution": {
     "iopub.execute_input": "2022-07-14T16:14:23.339654Z",
     "iopub.status.busy": "2022-07-14T16:14:23.339355Z",
     "iopub.status.idle": "2022-07-14T16:14:24.015301Z",
     "shell.execute_reply": "2022-07-14T16:14:24.014252Z",
     "shell.execute_reply.started": "2022-07-14T16:14:23.339623Z"
    },
    "pycharm": {
     "name": "#%%\n"
    },
    "trusted": true
   },
   "outputs": [
    {
     "name": "stdout",
     "output_type": "stream",
     "text": [
      "48.8741684 2.31111002\n"
     ]
    }
   ],
   "source": [
    "from geopy.geocoders import Bing  # Подключаем библиотеку\n",
    "geolocator = Bing(api_key=\"ArAEkjZybNV7puDe4lgO9FsX8VssJ57er2SG0SvcuN3YxL0bZ5U9wZUtPlddLrVx\")  # Указываем название приложения (так нужно, да)\n",
    "adress = str('4 rue de la P pini re 8th arr 75008 Paris France')  # Получаем интересующий нас адрес\n",
    "location = geolocator.geocode(adress)  # Создаем переменную, которая состоит из нужного нам адреса\n",
    "#print(location) # Выводим результат: адрес в полном виде\n",
    "print(location.latitude, location.longitude)  # И теперь выводим GPS-координаты нужного нам адреса"
   ]
  },
  {
   "cell_type": "code",
   "execution_count": 18,
   "metadata": {
    "execution": {
     "iopub.execute_input": "2022-07-14T16:01:50.891317Z",
     "iopub.status.busy": "2022-07-14T16:01:50.890443Z",
     "iopub.status.idle": "2022-07-14T16:01:51.102133Z",
     "shell.execute_reply": "2022-07-14T16:01:51.101540Z",
     "shell.execute_reply.started": "2022-07-14T16:01:50.891265Z"
    },
    "pycharm": {
     "name": "#%%\n"
    },
    "trusted": true
   },
   "outputs": [
    {
     "data": {
      "text/plain": [
       "48.2203284"
      ]
     },
     "execution_count": 18,
     "metadata": {},
     "output_type": "execute_result"
    }
   ],
   "source": [
    "geolocator.geocode(adress).latitude"
   ]
  },
  {
   "cell_type": "code",
   "execution_count": 16,
   "metadata": {
    "execution": {
     "iopub.execute_input": "2022-07-14T16:00:20.041996Z",
     "iopub.status.busy": "2022-07-14T16:00:20.041177Z",
     "iopub.status.idle": "2022-07-14T16:00:20.259412Z",
     "shell.execute_reply": "2022-07-14T16:00:20.258767Z",
     "shell.execute_reply.started": "2022-07-14T16:00:20.041920Z"
    },
    "pycharm": {
     "name": "#%%\n"
    },
    "trusted": true
   },
   "outputs": [],
   "source": [
    "#data.fillna(0, inplace=True)"
   ]
  },
  {
   "cell_type": "code",
   "execution_count": 42,
   "metadata": {
    "execution": {
     "iopub.execute_input": "2022-07-14T16:06:45.409879Z",
     "iopub.status.busy": "2022-07-14T16:06:45.409553Z",
     "iopub.status.idle": "2022-07-14T16:06:45.416023Z",
     "shell.execute_reply": "2022-07-14T16:06:45.415286Z",
     "shell.execute_reply.started": "2022-07-14T16:06:45.409845Z"
    },
    "pycharm": {
     "name": "#%%\n"
    },
    "trusted": true
   },
   "outputs": [],
   "source": [
    "def latitude_set(address):\n",
    "    location = geolocator.geocode(address)\n",
    "    return location.latitude\n",
    "def longitude_set(address):\n",
    "    location = geolocator.geocode(address)\n",
    "    return location.longitude"
   ]
  },
  {
   "cell_type": "code",
   "execution_count": 159,
   "metadata": {
    "execution": {
     "iopub.execute_input": "2022-07-14T16:08:22.448833Z",
     "iopub.status.busy": "2022-07-14T16:08:22.448253Z",
     "iopub.status.idle": "2022-07-14T16:08:23.105017Z",
     "shell.execute_reply": "2022-07-14T16:08:23.103770Z",
     "shell.execute_reply.started": "2022-07-14T16:08:22.448797Z"
    },
    "pycharm": {
     "name": "#%%\n"
    },
    "trusted": true
   },
   "outputs": [
    {
     "ename": "KeyboardInterrupt",
     "evalue": "",
     "output_type": "error",
     "traceback": [
      "\u001B[0;31m---------------------------------------------------------------------------\u001B[0m",
      "\u001B[0;31mKeyboardInterrupt\u001B[0m                         Traceback (most recent call last)",
      "Input \u001B[0;32mIn [159]\u001B[0m, in \u001B[0;36m<cell line: 1>\u001B[0;34m()\u001B[0m\n\u001B[0;32m----> 1\u001B[0m data\u001B[38;5;241m.\u001B[39mloc[(data[\u001B[38;5;124m\"\u001B[39m\u001B[38;5;124mlat\u001B[39m\u001B[38;5;124m\"\u001B[39m]\u001B[38;5;241m.\u001B[39misna()), \u001B[38;5;124m\"\u001B[39m\u001B[38;5;124mlat\u001B[39m\u001B[38;5;124m\"\u001B[39m] \u001B[38;5;241m=\u001B[39m \u001B[43mdata\u001B[49m\u001B[38;5;241;43m.\u001B[39;49m\u001B[43mloc\u001B[49m\u001B[43m[\u001B[49m\u001B[43m(\u001B[49m\u001B[43mdata\u001B[49m\u001B[43m[\u001B[49m\u001B[38;5;124;43m\"\u001B[39;49m\u001B[38;5;124;43mlat\u001B[39;49m\u001B[38;5;124;43m\"\u001B[39;49m\u001B[43m]\u001B[49m\u001B[38;5;241;43m.\u001B[39;49m\u001B[43misna\u001B[49m\u001B[43m(\u001B[49m\u001B[43m)\u001B[49m\u001B[43m)\u001B[49m\u001B[43m,\u001B[49m\u001B[43m \u001B[49m\u001B[38;5;124;43m\"\u001B[39;49m\u001B[38;5;124;43mhotel_name\u001B[39;49m\u001B[38;5;124;43m\"\u001B[39;49m\u001B[43m]\u001B[49m\u001B[38;5;241;43m.\u001B[39;49m\u001B[43mapply\u001B[49m\u001B[43m(\u001B[49m\u001B[43mlatitude_set\u001B[49m\u001B[43m)\u001B[49m\n",
      "File \u001B[0;32m~/opt/anaconda3/envs/SFDS/lib/python3.9/site-packages/pandas/core/series.py:4433\u001B[0m, in \u001B[0;36mSeries.apply\u001B[0;34m(self, func, convert_dtype, args, **kwargs)\u001B[0m\n\u001B[1;32m   4323\u001B[0m \u001B[38;5;28;01mdef\u001B[39;00m \u001B[38;5;21mapply\u001B[39m(\n\u001B[1;32m   4324\u001B[0m     \u001B[38;5;28mself\u001B[39m,\n\u001B[1;32m   4325\u001B[0m     func: AggFuncType,\n\u001B[0;32m   (...)\u001B[0m\n\u001B[1;32m   4328\u001B[0m     \u001B[38;5;241m*\u001B[39m\u001B[38;5;241m*\u001B[39mkwargs,\n\u001B[1;32m   4329\u001B[0m ) \u001B[38;5;241m-\u001B[39m\u001B[38;5;241m>\u001B[39m DataFrame \u001B[38;5;241m|\u001B[39m Series:\n\u001B[1;32m   4330\u001B[0m     \u001B[38;5;124;03m\"\"\"\u001B[39;00m\n\u001B[1;32m   4331\u001B[0m \u001B[38;5;124;03m    Invoke function on values of Series.\u001B[39;00m\n\u001B[1;32m   4332\u001B[0m \n\u001B[0;32m   (...)\u001B[0m\n\u001B[1;32m   4431\u001B[0m \u001B[38;5;124;03m    dtype: float64\u001B[39;00m\n\u001B[1;32m   4432\u001B[0m \u001B[38;5;124;03m    \"\"\"\u001B[39;00m\n\u001B[0;32m-> 4433\u001B[0m     \u001B[38;5;28;01mreturn\u001B[39;00m \u001B[43mSeriesApply\u001B[49m\u001B[43m(\u001B[49m\u001B[38;5;28;43mself\u001B[39;49m\u001B[43m,\u001B[49m\u001B[43m \u001B[49m\u001B[43mfunc\u001B[49m\u001B[43m,\u001B[49m\u001B[43m \u001B[49m\u001B[43mconvert_dtype\u001B[49m\u001B[43m,\u001B[49m\u001B[43m \u001B[49m\u001B[43margs\u001B[49m\u001B[43m,\u001B[49m\u001B[43m \u001B[49m\u001B[43mkwargs\u001B[49m\u001B[43m)\u001B[49m\u001B[38;5;241;43m.\u001B[39;49m\u001B[43mapply\u001B[49m\u001B[43m(\u001B[49m\u001B[43m)\u001B[49m\n",
      "File \u001B[0;32m~/opt/anaconda3/envs/SFDS/lib/python3.9/site-packages/pandas/core/apply.py:1088\u001B[0m, in \u001B[0;36mSeriesApply.apply\u001B[0;34m(self)\u001B[0m\n\u001B[1;32m   1084\u001B[0m \u001B[38;5;28;01mif\u001B[39;00m \u001B[38;5;28misinstance\u001B[39m(\u001B[38;5;28mself\u001B[39m\u001B[38;5;241m.\u001B[39mf, \u001B[38;5;28mstr\u001B[39m):\n\u001B[1;32m   1085\u001B[0m     \u001B[38;5;66;03m# if we are a string, try to dispatch\u001B[39;00m\n\u001B[1;32m   1086\u001B[0m     \u001B[38;5;28;01mreturn\u001B[39;00m \u001B[38;5;28mself\u001B[39m\u001B[38;5;241m.\u001B[39mapply_str()\n\u001B[0;32m-> 1088\u001B[0m \u001B[38;5;28;01mreturn\u001B[39;00m \u001B[38;5;28;43mself\u001B[39;49m\u001B[38;5;241;43m.\u001B[39;49m\u001B[43mapply_standard\u001B[49m\u001B[43m(\u001B[49m\u001B[43m)\u001B[49m\n",
      "File \u001B[0;32m~/opt/anaconda3/envs/SFDS/lib/python3.9/site-packages/pandas/core/apply.py:1143\u001B[0m, in \u001B[0;36mSeriesApply.apply_standard\u001B[0;34m(self)\u001B[0m\n\u001B[1;32m   1137\u001B[0m         values \u001B[38;5;241m=\u001B[39m obj\u001B[38;5;241m.\u001B[39mastype(\u001B[38;5;28mobject\u001B[39m)\u001B[38;5;241m.\u001B[39m_values\n\u001B[1;32m   1138\u001B[0m         \u001B[38;5;66;03m# error: Argument 2 to \"map_infer\" has incompatible type\u001B[39;00m\n\u001B[1;32m   1139\u001B[0m         \u001B[38;5;66;03m# \"Union[Callable[..., Any], str, List[Union[Callable[..., Any], str]],\u001B[39;00m\n\u001B[1;32m   1140\u001B[0m         \u001B[38;5;66;03m# Dict[Hashable, Union[Union[Callable[..., Any], str],\u001B[39;00m\n\u001B[1;32m   1141\u001B[0m         \u001B[38;5;66;03m# List[Union[Callable[..., Any], str]]]]]\"; expected\u001B[39;00m\n\u001B[1;32m   1142\u001B[0m         \u001B[38;5;66;03m# \"Callable[[Any], Any]\"\u001B[39;00m\n\u001B[0;32m-> 1143\u001B[0m         mapped \u001B[38;5;241m=\u001B[39m \u001B[43mlib\u001B[49m\u001B[38;5;241;43m.\u001B[39;49m\u001B[43mmap_infer\u001B[49m\u001B[43m(\u001B[49m\n\u001B[1;32m   1144\u001B[0m \u001B[43m            \u001B[49m\u001B[43mvalues\u001B[49m\u001B[43m,\u001B[49m\n\u001B[1;32m   1145\u001B[0m \u001B[43m            \u001B[49m\u001B[43mf\u001B[49m\u001B[43m,\u001B[49m\u001B[43m  \u001B[49m\u001B[38;5;66;43;03m# type: ignore[arg-type]\u001B[39;49;00m\n\u001B[1;32m   1146\u001B[0m \u001B[43m            \u001B[49m\u001B[43mconvert\u001B[49m\u001B[38;5;241;43m=\u001B[39;49m\u001B[38;5;28;43mself\u001B[39;49m\u001B[38;5;241;43m.\u001B[39;49m\u001B[43mconvert_dtype\u001B[49m\u001B[43m,\u001B[49m\n\u001B[1;32m   1147\u001B[0m \u001B[43m        \u001B[49m\u001B[43m)\u001B[49m\n\u001B[1;32m   1149\u001B[0m \u001B[38;5;28;01mif\u001B[39;00m \u001B[38;5;28mlen\u001B[39m(mapped) \u001B[38;5;129;01mand\u001B[39;00m \u001B[38;5;28misinstance\u001B[39m(mapped[\u001B[38;5;241m0\u001B[39m], ABCSeries):\n\u001B[1;32m   1150\u001B[0m     \u001B[38;5;66;03m# GH#43986 Need to do list(mapped) in order to get treated as nested\u001B[39;00m\n\u001B[1;32m   1151\u001B[0m     \u001B[38;5;66;03m#  See also GH#25959 regarding EA support\u001B[39;00m\n\u001B[1;32m   1152\u001B[0m     \u001B[38;5;28;01mreturn\u001B[39;00m obj\u001B[38;5;241m.\u001B[39m_constructor_expanddim(\u001B[38;5;28mlist\u001B[39m(mapped), index\u001B[38;5;241m=\u001B[39mobj\u001B[38;5;241m.\u001B[39mindex)\n",
      "File \u001B[0;32m~/opt/anaconda3/envs/SFDS/lib/python3.9/site-packages/pandas/_libs/lib.pyx:2870\u001B[0m, in \u001B[0;36mpandas._libs.lib.map_infer\u001B[0;34m()\u001B[0m\n",
      "Input \u001B[0;32mIn [154]\u001B[0m, in \u001B[0;36mlatitude_set\u001B[0;34m(address)\u001B[0m\n\u001B[1;32m      1\u001B[0m \u001B[38;5;28;01mdef\u001B[39;00m \u001B[38;5;21mlatitude_set\u001B[39m(address):\n\u001B[0;32m----> 2\u001B[0m     location \u001B[38;5;241m=\u001B[39m \u001B[43mgeolocator\u001B[49m\u001B[38;5;241;43m.\u001B[39;49m\u001B[43mgeocode\u001B[49m\u001B[43m(\u001B[49m\u001B[43maddress\u001B[49m\u001B[43m)\u001B[49m\n\u001B[1;32m      3\u001B[0m     \u001B[38;5;28;01mreturn\u001B[39;00m location\u001B[38;5;241m.\u001B[39mlatitude\n",
      "File \u001B[0;32m~/opt/anaconda3/envs/SFDS/lib/python3.9/site-packages/geopy/geocoders/bing.py:162\u001B[0m, in \u001B[0;36mBing.geocode\u001B[0;34m(self, query, exactly_one, user_location, timeout, culture, include_neighborhood, include_country_code)\u001B[0m\n\u001B[1;32m    160\u001B[0m logger\u001B[38;5;241m.\u001B[39mdebug(\u001B[38;5;124m\"\u001B[39m\u001B[38;5;132;01m%s\u001B[39;00m\u001B[38;5;124m.geocode: \u001B[39m\u001B[38;5;132;01m%s\u001B[39;00m\u001B[38;5;124m\"\u001B[39m, \u001B[38;5;28mself\u001B[39m\u001B[38;5;241m.\u001B[39m\u001B[38;5;18m__class__\u001B[39m\u001B[38;5;241m.\u001B[39m\u001B[38;5;18m__name__\u001B[39m, url)\n\u001B[1;32m    161\u001B[0m callback \u001B[38;5;241m=\u001B[39m partial(\u001B[38;5;28mself\u001B[39m\u001B[38;5;241m.\u001B[39m_parse_json, exactly_one\u001B[38;5;241m=\u001B[39mexactly_one)\n\u001B[0;32m--> 162\u001B[0m \u001B[38;5;28;01mreturn\u001B[39;00m \u001B[38;5;28;43mself\u001B[39;49m\u001B[38;5;241;43m.\u001B[39;49m\u001B[43m_call_geocoder\u001B[49m\u001B[43m(\u001B[49m\u001B[43murl\u001B[49m\u001B[43m,\u001B[49m\u001B[43m \u001B[49m\u001B[43mcallback\u001B[49m\u001B[43m,\u001B[49m\u001B[43m \u001B[49m\u001B[43mtimeout\u001B[49m\u001B[38;5;241;43m=\u001B[39;49m\u001B[43mtimeout\u001B[49m\u001B[43m)\u001B[49m\n",
      "File \u001B[0;32m~/opt/anaconda3/envs/SFDS/lib/python3.9/site-packages/geopy/geocoders/base.py:368\u001B[0m, in \u001B[0;36mGeocoder._call_geocoder\u001B[0;34m(self, url, callback, timeout, is_json, headers)\u001B[0m\n\u001B[1;32m    366\u001B[0m \u001B[38;5;28;01mtry\u001B[39;00m:\n\u001B[1;32m    367\u001B[0m     \u001B[38;5;28;01mif\u001B[39;00m is_json:\n\u001B[0;32m--> 368\u001B[0m         result \u001B[38;5;241m=\u001B[39m \u001B[38;5;28;43mself\u001B[39;49m\u001B[38;5;241;43m.\u001B[39;49m\u001B[43madapter\u001B[49m\u001B[38;5;241;43m.\u001B[39;49m\u001B[43mget_json\u001B[49m\u001B[43m(\u001B[49m\u001B[43murl\u001B[49m\u001B[43m,\u001B[49m\u001B[43m \u001B[49m\u001B[43mtimeout\u001B[49m\u001B[38;5;241;43m=\u001B[39;49m\u001B[43mtimeout\u001B[49m\u001B[43m,\u001B[49m\u001B[43m \u001B[49m\u001B[43mheaders\u001B[49m\u001B[38;5;241;43m=\u001B[39;49m\u001B[43mreq_headers\u001B[49m\u001B[43m)\u001B[49m\n\u001B[1;32m    369\u001B[0m     \u001B[38;5;28;01melse\u001B[39;00m:\n\u001B[1;32m    370\u001B[0m         result \u001B[38;5;241m=\u001B[39m \u001B[38;5;28mself\u001B[39m\u001B[38;5;241m.\u001B[39madapter\u001B[38;5;241m.\u001B[39mget_text(url, timeout\u001B[38;5;241m=\u001B[39mtimeout, headers\u001B[38;5;241m=\u001B[39mreq_headers)\n",
      "File \u001B[0;32m~/opt/anaconda3/envs/SFDS/lib/python3.9/site-packages/geopy/adapters.py:438\u001B[0m, in \u001B[0;36mRequestsAdapter.get_json\u001B[0;34m(self, url, timeout, headers)\u001B[0m\n\u001B[1;32m    437\u001B[0m \u001B[38;5;28;01mdef\u001B[39;00m \u001B[38;5;21mget_json\u001B[39m(\u001B[38;5;28mself\u001B[39m, url, \u001B[38;5;241m*\u001B[39m, timeout, headers):\n\u001B[0;32m--> 438\u001B[0m     resp \u001B[38;5;241m=\u001B[39m \u001B[38;5;28;43mself\u001B[39;49m\u001B[38;5;241;43m.\u001B[39;49m\u001B[43m_request\u001B[49m\u001B[43m(\u001B[49m\u001B[43murl\u001B[49m\u001B[43m,\u001B[49m\u001B[43m \u001B[49m\u001B[43mtimeout\u001B[49m\u001B[38;5;241;43m=\u001B[39;49m\u001B[43mtimeout\u001B[49m\u001B[43m,\u001B[49m\u001B[43m \u001B[49m\u001B[43mheaders\u001B[49m\u001B[38;5;241;43m=\u001B[39;49m\u001B[43mheaders\u001B[49m\u001B[43m)\u001B[49m\n\u001B[1;32m    439\u001B[0m     \u001B[38;5;28;01mtry\u001B[39;00m:\n\u001B[1;32m    440\u001B[0m         \u001B[38;5;28;01mreturn\u001B[39;00m resp\u001B[38;5;241m.\u001B[39mjson()\n",
      "File \u001B[0;32m~/opt/anaconda3/envs/SFDS/lib/python3.9/site-packages/geopy/adapters.py:448\u001B[0m, in \u001B[0;36mRequestsAdapter._request\u001B[0;34m(self, url, timeout, headers)\u001B[0m\n\u001B[1;32m    446\u001B[0m \u001B[38;5;28;01mdef\u001B[39;00m \u001B[38;5;21m_request\u001B[39m(\u001B[38;5;28mself\u001B[39m, url, \u001B[38;5;241m*\u001B[39m, timeout, headers):\n\u001B[1;32m    447\u001B[0m     \u001B[38;5;28;01mtry\u001B[39;00m:\n\u001B[0;32m--> 448\u001B[0m         resp \u001B[38;5;241m=\u001B[39m \u001B[38;5;28;43mself\u001B[39;49m\u001B[38;5;241;43m.\u001B[39;49m\u001B[43msession\u001B[49m\u001B[38;5;241;43m.\u001B[39;49m\u001B[43mget\u001B[49m\u001B[43m(\u001B[49m\u001B[43murl\u001B[49m\u001B[43m,\u001B[49m\u001B[43m \u001B[49m\u001B[43mtimeout\u001B[49m\u001B[38;5;241;43m=\u001B[39;49m\u001B[43mtimeout\u001B[49m\u001B[43m,\u001B[49m\u001B[43m \u001B[49m\u001B[43mheaders\u001B[49m\u001B[38;5;241;43m=\u001B[39;49m\u001B[43mheaders\u001B[49m\u001B[43m)\u001B[49m\n\u001B[1;32m    449\u001B[0m     \u001B[38;5;28;01mexcept\u001B[39;00m \u001B[38;5;167;01mException\u001B[39;00m \u001B[38;5;28;01mas\u001B[39;00m error:\n\u001B[1;32m    450\u001B[0m         message \u001B[38;5;241m=\u001B[39m \u001B[38;5;28mstr\u001B[39m(error)\n",
      "File \u001B[0;32m~/opt/anaconda3/envs/SFDS/lib/python3.9/site-packages/requests/sessions.py:600\u001B[0m, in \u001B[0;36mSession.get\u001B[0;34m(self, url, **kwargs)\u001B[0m\n\u001B[1;32m    592\u001B[0m \u001B[38;5;124mr\u001B[39m\u001B[38;5;124;03m\"\"\"Sends a GET request. Returns :class:`Response` object.\u001B[39;00m\n\u001B[1;32m    593\u001B[0m \n\u001B[1;32m    594\u001B[0m \u001B[38;5;124;03m:param url: URL for the new :class:`Request` object.\u001B[39;00m\n\u001B[1;32m    595\u001B[0m \u001B[38;5;124;03m:param \\*\\*kwargs: Optional arguments that ``request`` takes.\u001B[39;00m\n\u001B[1;32m    596\u001B[0m \u001B[38;5;124;03m:rtype: requests.Response\u001B[39;00m\n\u001B[1;32m    597\u001B[0m \u001B[38;5;124;03m\"\"\"\u001B[39;00m\n\u001B[1;32m    599\u001B[0m kwargs\u001B[38;5;241m.\u001B[39msetdefault(\u001B[38;5;124m\"\u001B[39m\u001B[38;5;124mallow_redirects\u001B[39m\u001B[38;5;124m\"\u001B[39m, \u001B[38;5;28;01mTrue\u001B[39;00m)\n\u001B[0;32m--> 600\u001B[0m \u001B[38;5;28;01mreturn\u001B[39;00m \u001B[38;5;28;43mself\u001B[39;49m\u001B[38;5;241;43m.\u001B[39;49m\u001B[43mrequest\u001B[49m\u001B[43m(\u001B[49m\u001B[38;5;124;43m\"\u001B[39;49m\u001B[38;5;124;43mGET\u001B[39;49m\u001B[38;5;124;43m\"\u001B[39;49m\u001B[43m,\u001B[49m\u001B[43m \u001B[49m\u001B[43murl\u001B[49m\u001B[43m,\u001B[49m\u001B[43m \u001B[49m\u001B[38;5;241;43m*\u001B[39;49m\u001B[38;5;241;43m*\u001B[39;49m\u001B[43mkwargs\u001B[49m\u001B[43m)\u001B[49m\n",
      "File \u001B[0;32m~/opt/anaconda3/envs/SFDS/lib/python3.9/site-packages/requests/sessions.py:587\u001B[0m, in \u001B[0;36mSession.request\u001B[0;34m(self, method, url, params, data, headers, cookies, files, auth, timeout, allow_redirects, proxies, hooks, stream, verify, cert, json)\u001B[0m\n\u001B[1;32m    582\u001B[0m send_kwargs \u001B[38;5;241m=\u001B[39m {\n\u001B[1;32m    583\u001B[0m     \u001B[38;5;124m\"\u001B[39m\u001B[38;5;124mtimeout\u001B[39m\u001B[38;5;124m\"\u001B[39m: timeout,\n\u001B[1;32m    584\u001B[0m     \u001B[38;5;124m\"\u001B[39m\u001B[38;5;124mallow_redirects\u001B[39m\u001B[38;5;124m\"\u001B[39m: allow_redirects,\n\u001B[1;32m    585\u001B[0m }\n\u001B[1;32m    586\u001B[0m send_kwargs\u001B[38;5;241m.\u001B[39mupdate(settings)\n\u001B[0;32m--> 587\u001B[0m resp \u001B[38;5;241m=\u001B[39m \u001B[38;5;28;43mself\u001B[39;49m\u001B[38;5;241;43m.\u001B[39;49m\u001B[43msend\u001B[49m\u001B[43m(\u001B[49m\u001B[43mprep\u001B[49m\u001B[43m,\u001B[49m\u001B[43m \u001B[49m\u001B[38;5;241;43m*\u001B[39;49m\u001B[38;5;241;43m*\u001B[39;49m\u001B[43msend_kwargs\u001B[49m\u001B[43m)\u001B[49m\n\u001B[1;32m    589\u001B[0m \u001B[38;5;28;01mreturn\u001B[39;00m resp\n",
      "File \u001B[0;32m~/opt/anaconda3/envs/SFDS/lib/python3.9/site-packages/requests/sessions.py:701\u001B[0m, in \u001B[0;36mSession.send\u001B[0;34m(self, request, **kwargs)\u001B[0m\n\u001B[1;32m    698\u001B[0m start \u001B[38;5;241m=\u001B[39m preferred_clock()\n\u001B[1;32m    700\u001B[0m \u001B[38;5;66;03m# Send the request\u001B[39;00m\n\u001B[0;32m--> 701\u001B[0m r \u001B[38;5;241m=\u001B[39m \u001B[43madapter\u001B[49m\u001B[38;5;241;43m.\u001B[39;49m\u001B[43msend\u001B[49m\u001B[43m(\u001B[49m\u001B[43mrequest\u001B[49m\u001B[43m,\u001B[49m\u001B[43m \u001B[49m\u001B[38;5;241;43m*\u001B[39;49m\u001B[38;5;241;43m*\u001B[39;49m\u001B[43mkwargs\u001B[49m\u001B[43m)\u001B[49m\n\u001B[1;32m    703\u001B[0m \u001B[38;5;66;03m# Total elapsed time of the request (approximately)\u001B[39;00m\n\u001B[1;32m    704\u001B[0m elapsed \u001B[38;5;241m=\u001B[39m preferred_clock() \u001B[38;5;241m-\u001B[39m start\n",
      "File \u001B[0;32m~/opt/anaconda3/envs/SFDS/lib/python3.9/site-packages/requests/adapters.py:489\u001B[0m, in \u001B[0;36mHTTPAdapter.send\u001B[0;34m(self, request, stream, timeout, verify, cert, proxies)\u001B[0m\n\u001B[1;32m    487\u001B[0m \u001B[38;5;28;01mtry\u001B[39;00m:\n\u001B[1;32m    488\u001B[0m     \u001B[38;5;28;01mif\u001B[39;00m \u001B[38;5;129;01mnot\u001B[39;00m chunked:\n\u001B[0;32m--> 489\u001B[0m         resp \u001B[38;5;241m=\u001B[39m \u001B[43mconn\u001B[49m\u001B[38;5;241;43m.\u001B[39;49m\u001B[43murlopen\u001B[49m\u001B[43m(\u001B[49m\n\u001B[1;32m    490\u001B[0m \u001B[43m            \u001B[49m\u001B[43mmethod\u001B[49m\u001B[38;5;241;43m=\u001B[39;49m\u001B[43mrequest\u001B[49m\u001B[38;5;241;43m.\u001B[39;49m\u001B[43mmethod\u001B[49m\u001B[43m,\u001B[49m\n\u001B[1;32m    491\u001B[0m \u001B[43m            \u001B[49m\u001B[43murl\u001B[49m\u001B[38;5;241;43m=\u001B[39;49m\u001B[43murl\u001B[49m\u001B[43m,\u001B[49m\n\u001B[1;32m    492\u001B[0m \u001B[43m            \u001B[49m\u001B[43mbody\u001B[49m\u001B[38;5;241;43m=\u001B[39;49m\u001B[43mrequest\u001B[49m\u001B[38;5;241;43m.\u001B[39;49m\u001B[43mbody\u001B[49m\u001B[43m,\u001B[49m\n\u001B[1;32m    493\u001B[0m \u001B[43m            \u001B[49m\u001B[43mheaders\u001B[49m\u001B[38;5;241;43m=\u001B[39;49m\u001B[43mrequest\u001B[49m\u001B[38;5;241;43m.\u001B[39;49m\u001B[43mheaders\u001B[49m\u001B[43m,\u001B[49m\n\u001B[1;32m    494\u001B[0m \u001B[43m            \u001B[49m\u001B[43mredirect\u001B[49m\u001B[38;5;241;43m=\u001B[39;49m\u001B[38;5;28;43;01mFalse\u001B[39;49;00m\u001B[43m,\u001B[49m\n\u001B[1;32m    495\u001B[0m \u001B[43m            \u001B[49m\u001B[43massert_same_host\u001B[49m\u001B[38;5;241;43m=\u001B[39;49m\u001B[38;5;28;43;01mFalse\u001B[39;49;00m\u001B[43m,\u001B[49m\n\u001B[1;32m    496\u001B[0m \u001B[43m            \u001B[49m\u001B[43mpreload_content\u001B[49m\u001B[38;5;241;43m=\u001B[39;49m\u001B[38;5;28;43;01mFalse\u001B[39;49;00m\u001B[43m,\u001B[49m\n\u001B[1;32m    497\u001B[0m \u001B[43m            \u001B[49m\u001B[43mdecode_content\u001B[49m\u001B[38;5;241;43m=\u001B[39;49m\u001B[38;5;28;43;01mFalse\u001B[39;49;00m\u001B[43m,\u001B[49m\n\u001B[1;32m    498\u001B[0m \u001B[43m            \u001B[49m\u001B[43mretries\u001B[49m\u001B[38;5;241;43m=\u001B[39;49m\u001B[38;5;28;43mself\u001B[39;49m\u001B[38;5;241;43m.\u001B[39;49m\u001B[43mmax_retries\u001B[49m\u001B[43m,\u001B[49m\n\u001B[1;32m    499\u001B[0m \u001B[43m            \u001B[49m\u001B[43mtimeout\u001B[49m\u001B[38;5;241;43m=\u001B[39;49m\u001B[43mtimeout\u001B[49m\u001B[43m,\u001B[49m\n\u001B[1;32m    500\u001B[0m \u001B[43m        \u001B[49m\u001B[43m)\u001B[49m\n\u001B[1;32m    502\u001B[0m     \u001B[38;5;66;03m# Send the request.\u001B[39;00m\n\u001B[1;32m    503\u001B[0m     \u001B[38;5;28;01melse\u001B[39;00m:\n\u001B[1;32m    504\u001B[0m         \u001B[38;5;28;01mif\u001B[39;00m \u001B[38;5;28mhasattr\u001B[39m(conn, \u001B[38;5;124m\"\u001B[39m\u001B[38;5;124mproxy_pool\u001B[39m\u001B[38;5;124m\"\u001B[39m):\n",
      "File \u001B[0;32m~/opt/anaconda3/envs/SFDS/lib/python3.9/site-packages/urllib3/connectionpool.py:703\u001B[0m, in \u001B[0;36mHTTPConnectionPool.urlopen\u001B[0;34m(self, method, url, body, headers, retries, redirect, assert_same_host, timeout, pool_timeout, release_conn, chunked, body_pos, **response_kw)\u001B[0m\n\u001B[1;32m    700\u001B[0m     \u001B[38;5;28mself\u001B[39m\u001B[38;5;241m.\u001B[39m_prepare_proxy(conn)\n\u001B[1;32m    702\u001B[0m \u001B[38;5;66;03m# Make the request on the httplib connection object.\u001B[39;00m\n\u001B[0;32m--> 703\u001B[0m httplib_response \u001B[38;5;241m=\u001B[39m \u001B[38;5;28;43mself\u001B[39;49m\u001B[38;5;241;43m.\u001B[39;49m\u001B[43m_make_request\u001B[49m\u001B[43m(\u001B[49m\n\u001B[1;32m    704\u001B[0m \u001B[43m    \u001B[49m\u001B[43mconn\u001B[49m\u001B[43m,\u001B[49m\n\u001B[1;32m    705\u001B[0m \u001B[43m    \u001B[49m\u001B[43mmethod\u001B[49m\u001B[43m,\u001B[49m\n\u001B[1;32m    706\u001B[0m \u001B[43m    \u001B[49m\u001B[43murl\u001B[49m\u001B[43m,\u001B[49m\n\u001B[1;32m    707\u001B[0m \u001B[43m    \u001B[49m\u001B[43mtimeout\u001B[49m\u001B[38;5;241;43m=\u001B[39;49m\u001B[43mtimeout_obj\u001B[49m\u001B[43m,\u001B[49m\n\u001B[1;32m    708\u001B[0m \u001B[43m    \u001B[49m\u001B[43mbody\u001B[49m\u001B[38;5;241;43m=\u001B[39;49m\u001B[43mbody\u001B[49m\u001B[43m,\u001B[49m\n\u001B[1;32m    709\u001B[0m \u001B[43m    \u001B[49m\u001B[43mheaders\u001B[49m\u001B[38;5;241;43m=\u001B[39;49m\u001B[43mheaders\u001B[49m\u001B[43m,\u001B[49m\n\u001B[1;32m    710\u001B[0m \u001B[43m    \u001B[49m\u001B[43mchunked\u001B[49m\u001B[38;5;241;43m=\u001B[39;49m\u001B[43mchunked\u001B[49m\u001B[43m,\u001B[49m\n\u001B[1;32m    711\u001B[0m \u001B[43m\u001B[49m\u001B[43m)\u001B[49m\n\u001B[1;32m    713\u001B[0m \u001B[38;5;66;03m# If we're going to release the connection in ``finally:``, then\u001B[39;00m\n\u001B[1;32m    714\u001B[0m \u001B[38;5;66;03m# the response doesn't need to know about the connection. Otherwise\u001B[39;00m\n\u001B[1;32m    715\u001B[0m \u001B[38;5;66;03m# it will also try to release it and we'll have a double-release\u001B[39;00m\n\u001B[1;32m    716\u001B[0m \u001B[38;5;66;03m# mess.\u001B[39;00m\n\u001B[1;32m    717\u001B[0m response_conn \u001B[38;5;241m=\u001B[39m conn \u001B[38;5;28;01mif\u001B[39;00m \u001B[38;5;129;01mnot\u001B[39;00m release_conn \u001B[38;5;28;01melse\u001B[39;00m \u001B[38;5;28;01mNone\u001B[39;00m\n",
      "File \u001B[0;32m~/opt/anaconda3/envs/SFDS/lib/python3.9/site-packages/urllib3/connectionpool.py:449\u001B[0m, in \u001B[0;36mHTTPConnectionPool._make_request\u001B[0;34m(self, conn, method, url, timeout, chunked, **httplib_request_kw)\u001B[0m\n\u001B[1;32m    444\u001B[0m             httplib_response \u001B[38;5;241m=\u001B[39m conn\u001B[38;5;241m.\u001B[39mgetresponse()\n\u001B[1;32m    445\u001B[0m         \u001B[38;5;28;01mexcept\u001B[39;00m \u001B[38;5;167;01mBaseException\u001B[39;00m \u001B[38;5;28;01mas\u001B[39;00m e:\n\u001B[1;32m    446\u001B[0m             \u001B[38;5;66;03m# Remove the TypeError from the exception chain in\u001B[39;00m\n\u001B[1;32m    447\u001B[0m             \u001B[38;5;66;03m# Python 3 (including for exceptions like SystemExit).\u001B[39;00m\n\u001B[1;32m    448\u001B[0m             \u001B[38;5;66;03m# Otherwise it looks like a bug in the code.\u001B[39;00m\n\u001B[0;32m--> 449\u001B[0m             \u001B[43msix\u001B[49m\u001B[38;5;241;43m.\u001B[39;49m\u001B[43mraise_from\u001B[49m\u001B[43m(\u001B[49m\u001B[43me\u001B[49m\u001B[43m,\u001B[49m\u001B[43m \u001B[49m\u001B[38;5;28;43;01mNone\u001B[39;49;00m\u001B[43m)\u001B[49m\n\u001B[1;32m    450\u001B[0m \u001B[38;5;28;01mexcept\u001B[39;00m (SocketTimeout, BaseSSLError, SocketError) \u001B[38;5;28;01mas\u001B[39;00m e:\n\u001B[1;32m    451\u001B[0m     \u001B[38;5;28mself\u001B[39m\u001B[38;5;241m.\u001B[39m_raise_timeout(err\u001B[38;5;241m=\u001B[39me, url\u001B[38;5;241m=\u001B[39murl, timeout_value\u001B[38;5;241m=\u001B[39mread_timeout)\n",
      "File \u001B[0;32m<string>:3\u001B[0m, in \u001B[0;36mraise_from\u001B[0;34m(value, from_value)\u001B[0m\n",
      "File \u001B[0;32m~/opt/anaconda3/envs/SFDS/lib/python3.9/site-packages/urllib3/connectionpool.py:444\u001B[0m, in \u001B[0;36mHTTPConnectionPool._make_request\u001B[0;34m(self, conn, method, url, timeout, chunked, **httplib_request_kw)\u001B[0m\n\u001B[1;32m    441\u001B[0m \u001B[38;5;28;01mexcept\u001B[39;00m \u001B[38;5;167;01mTypeError\u001B[39;00m:\n\u001B[1;32m    442\u001B[0m     \u001B[38;5;66;03m# Python 3\u001B[39;00m\n\u001B[1;32m    443\u001B[0m     \u001B[38;5;28;01mtry\u001B[39;00m:\n\u001B[0;32m--> 444\u001B[0m         httplib_response \u001B[38;5;241m=\u001B[39m \u001B[43mconn\u001B[49m\u001B[38;5;241;43m.\u001B[39;49m\u001B[43mgetresponse\u001B[49m\u001B[43m(\u001B[49m\u001B[43m)\u001B[49m\n\u001B[1;32m    445\u001B[0m     \u001B[38;5;28;01mexcept\u001B[39;00m \u001B[38;5;167;01mBaseException\u001B[39;00m \u001B[38;5;28;01mas\u001B[39;00m e:\n\u001B[1;32m    446\u001B[0m         \u001B[38;5;66;03m# Remove the TypeError from the exception chain in\u001B[39;00m\n\u001B[1;32m    447\u001B[0m         \u001B[38;5;66;03m# Python 3 (including for exceptions like SystemExit).\u001B[39;00m\n\u001B[1;32m    448\u001B[0m         \u001B[38;5;66;03m# Otherwise it looks like a bug in the code.\u001B[39;00m\n\u001B[1;32m    449\u001B[0m         six\u001B[38;5;241m.\u001B[39mraise_from(e, \u001B[38;5;28;01mNone\u001B[39;00m)\n",
      "File \u001B[0;32m~/opt/anaconda3/envs/SFDS/lib/python3.9/http/client.py:1377\u001B[0m, in \u001B[0;36mHTTPConnection.getresponse\u001B[0;34m(self)\u001B[0m\n\u001B[1;32m   1375\u001B[0m \u001B[38;5;28;01mtry\u001B[39;00m:\n\u001B[1;32m   1376\u001B[0m     \u001B[38;5;28;01mtry\u001B[39;00m:\n\u001B[0;32m-> 1377\u001B[0m         \u001B[43mresponse\u001B[49m\u001B[38;5;241;43m.\u001B[39;49m\u001B[43mbegin\u001B[49m\u001B[43m(\u001B[49m\u001B[43m)\u001B[49m\n\u001B[1;32m   1378\u001B[0m     \u001B[38;5;28;01mexcept\u001B[39;00m \u001B[38;5;167;01mConnectionError\u001B[39;00m:\n\u001B[1;32m   1379\u001B[0m         \u001B[38;5;28mself\u001B[39m\u001B[38;5;241m.\u001B[39mclose()\n",
      "File \u001B[0;32m~/opt/anaconda3/envs/SFDS/lib/python3.9/http/client.py:320\u001B[0m, in \u001B[0;36mHTTPResponse.begin\u001B[0;34m(self)\u001B[0m\n\u001B[1;32m    318\u001B[0m \u001B[38;5;66;03m# read until we get a non-100 response\u001B[39;00m\n\u001B[1;32m    319\u001B[0m \u001B[38;5;28;01mwhile\u001B[39;00m \u001B[38;5;28;01mTrue\u001B[39;00m:\n\u001B[0;32m--> 320\u001B[0m     version, status, reason \u001B[38;5;241m=\u001B[39m \u001B[38;5;28;43mself\u001B[39;49m\u001B[38;5;241;43m.\u001B[39;49m\u001B[43m_read_status\u001B[49m\u001B[43m(\u001B[49m\u001B[43m)\u001B[49m\n\u001B[1;32m    321\u001B[0m     \u001B[38;5;28;01mif\u001B[39;00m status \u001B[38;5;241m!=\u001B[39m CONTINUE:\n\u001B[1;32m    322\u001B[0m         \u001B[38;5;28;01mbreak\u001B[39;00m\n",
      "File \u001B[0;32m~/opt/anaconda3/envs/SFDS/lib/python3.9/http/client.py:281\u001B[0m, in \u001B[0;36mHTTPResponse._read_status\u001B[0;34m(self)\u001B[0m\n\u001B[1;32m    280\u001B[0m \u001B[38;5;28;01mdef\u001B[39;00m \u001B[38;5;21m_read_status\u001B[39m(\u001B[38;5;28mself\u001B[39m):\n\u001B[0;32m--> 281\u001B[0m     line \u001B[38;5;241m=\u001B[39m \u001B[38;5;28mstr\u001B[39m(\u001B[38;5;28;43mself\u001B[39;49m\u001B[38;5;241;43m.\u001B[39;49m\u001B[43mfp\u001B[49m\u001B[38;5;241;43m.\u001B[39;49m\u001B[43mreadline\u001B[49m\u001B[43m(\u001B[49m\u001B[43m_MAXLINE\u001B[49m\u001B[43m \u001B[49m\u001B[38;5;241;43m+\u001B[39;49m\u001B[43m \u001B[49m\u001B[38;5;241;43m1\u001B[39;49m\u001B[43m)\u001B[49m, \u001B[38;5;124m\"\u001B[39m\u001B[38;5;124miso-8859-1\u001B[39m\u001B[38;5;124m\"\u001B[39m)\n\u001B[1;32m    282\u001B[0m     \u001B[38;5;28;01mif\u001B[39;00m \u001B[38;5;28mlen\u001B[39m(line) \u001B[38;5;241m>\u001B[39m _MAXLINE:\n\u001B[1;32m    283\u001B[0m         \u001B[38;5;28;01mraise\u001B[39;00m LineTooLong(\u001B[38;5;124m\"\u001B[39m\u001B[38;5;124mstatus line\u001B[39m\u001B[38;5;124m\"\u001B[39m)\n",
      "File \u001B[0;32m~/opt/anaconda3/envs/SFDS/lib/python3.9/socket.py:704\u001B[0m, in \u001B[0;36mSocketIO.readinto\u001B[0;34m(self, b)\u001B[0m\n\u001B[1;32m    702\u001B[0m \u001B[38;5;28;01mwhile\u001B[39;00m \u001B[38;5;28;01mTrue\u001B[39;00m:\n\u001B[1;32m    703\u001B[0m     \u001B[38;5;28;01mtry\u001B[39;00m:\n\u001B[0;32m--> 704\u001B[0m         \u001B[38;5;28;01mreturn\u001B[39;00m \u001B[38;5;28;43mself\u001B[39;49m\u001B[38;5;241;43m.\u001B[39;49m\u001B[43m_sock\u001B[49m\u001B[38;5;241;43m.\u001B[39;49m\u001B[43mrecv_into\u001B[49m\u001B[43m(\u001B[49m\u001B[43mb\u001B[49m\u001B[43m)\u001B[49m\n\u001B[1;32m    705\u001B[0m     \u001B[38;5;28;01mexcept\u001B[39;00m timeout:\n\u001B[1;32m    706\u001B[0m         \u001B[38;5;28mself\u001B[39m\u001B[38;5;241m.\u001B[39m_timeout_occurred \u001B[38;5;241m=\u001B[39m \u001B[38;5;28;01mTrue\u001B[39;00m\n",
      "File \u001B[0;32m~/opt/anaconda3/envs/SFDS/lib/python3.9/ssl.py:1241\u001B[0m, in \u001B[0;36mSSLSocket.recv_into\u001B[0;34m(self, buffer, nbytes, flags)\u001B[0m\n\u001B[1;32m   1237\u001B[0m     \u001B[38;5;28;01mif\u001B[39;00m flags \u001B[38;5;241m!=\u001B[39m \u001B[38;5;241m0\u001B[39m:\n\u001B[1;32m   1238\u001B[0m         \u001B[38;5;28;01mraise\u001B[39;00m \u001B[38;5;167;01mValueError\u001B[39;00m(\n\u001B[1;32m   1239\u001B[0m           \u001B[38;5;124m\"\u001B[39m\u001B[38;5;124mnon-zero flags not allowed in calls to recv_into() on \u001B[39m\u001B[38;5;132;01m%s\u001B[39;00m\u001B[38;5;124m\"\u001B[39m \u001B[38;5;241m%\u001B[39m\n\u001B[1;32m   1240\u001B[0m           \u001B[38;5;28mself\u001B[39m\u001B[38;5;241m.\u001B[39m\u001B[38;5;18m__class__\u001B[39m)\n\u001B[0;32m-> 1241\u001B[0m     \u001B[38;5;28;01mreturn\u001B[39;00m \u001B[38;5;28;43mself\u001B[39;49m\u001B[38;5;241;43m.\u001B[39;49m\u001B[43mread\u001B[49m\u001B[43m(\u001B[49m\u001B[43mnbytes\u001B[49m\u001B[43m,\u001B[49m\u001B[43m \u001B[49m\u001B[43mbuffer\u001B[49m\u001B[43m)\u001B[49m\n\u001B[1;32m   1242\u001B[0m \u001B[38;5;28;01melse\u001B[39;00m:\n\u001B[1;32m   1243\u001B[0m     \u001B[38;5;28;01mreturn\u001B[39;00m \u001B[38;5;28msuper\u001B[39m()\u001B[38;5;241m.\u001B[39mrecv_into(buffer, nbytes, flags)\n",
      "File \u001B[0;32m~/opt/anaconda3/envs/SFDS/lib/python3.9/ssl.py:1099\u001B[0m, in \u001B[0;36mSSLSocket.read\u001B[0;34m(self, len, buffer)\u001B[0m\n\u001B[1;32m   1097\u001B[0m \u001B[38;5;28;01mtry\u001B[39;00m:\n\u001B[1;32m   1098\u001B[0m     \u001B[38;5;28;01mif\u001B[39;00m buffer \u001B[38;5;129;01mis\u001B[39;00m \u001B[38;5;129;01mnot\u001B[39;00m \u001B[38;5;28;01mNone\u001B[39;00m:\n\u001B[0;32m-> 1099\u001B[0m         \u001B[38;5;28;01mreturn\u001B[39;00m \u001B[38;5;28;43mself\u001B[39;49m\u001B[38;5;241;43m.\u001B[39;49m\u001B[43m_sslobj\u001B[49m\u001B[38;5;241;43m.\u001B[39;49m\u001B[43mread\u001B[49m\u001B[43m(\u001B[49m\u001B[38;5;28;43mlen\u001B[39;49m\u001B[43m,\u001B[49m\u001B[43m \u001B[49m\u001B[43mbuffer\u001B[49m\u001B[43m)\u001B[49m\n\u001B[1;32m   1100\u001B[0m     \u001B[38;5;28;01melse\u001B[39;00m:\n\u001B[1;32m   1101\u001B[0m         \u001B[38;5;28;01mreturn\u001B[39;00m \u001B[38;5;28mself\u001B[39m\u001B[38;5;241m.\u001B[39m_sslobj\u001B[38;5;241m.\u001B[39mread(\u001B[38;5;28mlen\u001B[39m)\n",
      "\u001B[0;31mKeyboardInterrupt\u001B[0m: "
     ]
    }
   ],
   "source": [
    "data.loc[(data[\"lat\"].isna()), \"lat\"] = data.loc[(data[\"lat\"].isna()), \"hotel_name\"].apply(latitude_set)"
   ]
  },
  {
   "cell_type": "code",
   "execution_count": 70,
   "outputs": [
    {
     "ename": "AttributeError",
     "evalue": "'unique_values' is not a valid function for 'DataFrameGroupBy' object",
     "output_type": "error",
     "traceback": [
      "\u001B[0;31m---------------------------------------------------------------------------\u001B[0m",
      "\u001B[0;31mAttributeError\u001B[0m                            Traceback (most recent call last)",
      "Input \u001B[0;32mIn [70]\u001B[0m, in \u001B[0;36m<cell line: 1>\u001B[0;34m()\u001B[0m\n\u001B[0;32m----> 1\u001B[0m hnames \u001B[38;5;241m=\u001B[39m \u001B[43mdata\u001B[49m\u001B[43m[\u001B[49m\u001B[43mdata\u001B[49m\u001B[43m[\u001B[49m\u001B[38;5;124;43m\"\u001B[39;49m\u001B[38;5;124;43mlng\u001B[39;49m\u001B[38;5;124;43m\"\u001B[39;49m\u001B[43m]\u001B[49m\u001B[38;5;241;43m.\u001B[39;49m\u001B[43misna\u001B[49m\u001B[43m(\u001B[49m\u001B[43m)\u001B[49m\u001B[43m]\u001B[49m\u001B[38;5;241;43m.\u001B[39;49m\u001B[43mgroupby\u001B[49m\u001B[43m(\u001B[49m\u001B[43m[\u001B[49m\u001B[38;5;124;43m\"\u001B[39;49m\u001B[38;5;124;43mhotel_name\u001B[39;49m\u001B[38;5;124;43m\"\u001B[39;49m\u001B[43m]\u001B[49m\u001B[43m)\u001B[49m\u001B[43m[\u001B[49m\u001B[43m[\u001B[49m\u001B[38;5;124;43m\"\u001B[39;49m\u001B[38;5;124;43mhotel_name\u001B[39;49m\u001B[38;5;124;43m\"\u001B[39;49m\u001B[43m,\u001B[49m\u001B[43m \u001B[49m\u001B[38;5;124;43m\"\u001B[39;49m\u001B[38;5;124;43mhotel_address\u001B[39;49m\u001B[38;5;124;43m\"\u001B[39;49m\u001B[43m]\u001B[49m\u001B[43m]\u001B[49m\u001B[38;5;241;43m.\u001B[39;49m\u001B[43magg\u001B[49m\u001B[43m(\u001B[49m\u001B[38;5;124;43m\"\u001B[39;49m\u001B[38;5;124;43munique_values\u001B[39;49m\u001B[38;5;124;43m\"\u001B[39;49m\u001B[43m)\u001B[49m\n",
      "File \u001B[0;32m~/opt/anaconda3/envs/SFDS/lib/python3.9/site-packages/pandas/core/groupby/generic.py:869\u001B[0m, in \u001B[0;36mDataFrameGroupBy.aggregate\u001B[0;34m(self, func, engine, engine_kwargs, *args, **kwargs)\u001B[0m\n\u001B[1;32m    866\u001B[0m func \u001B[38;5;241m=\u001B[39m maybe_mangle_lambdas(func)\n\u001B[1;32m    868\u001B[0m op \u001B[38;5;241m=\u001B[39m GroupByApply(\u001B[38;5;28mself\u001B[39m, func, args, kwargs)\n\u001B[0;32m--> 869\u001B[0m result \u001B[38;5;241m=\u001B[39m \u001B[43mop\u001B[49m\u001B[38;5;241;43m.\u001B[39;49m\u001B[43magg\u001B[49m\u001B[43m(\u001B[49m\u001B[43m)\u001B[49m\n\u001B[1;32m    870\u001B[0m \u001B[38;5;28;01mif\u001B[39;00m \u001B[38;5;129;01mnot\u001B[39;00m is_dict_like(func) \u001B[38;5;129;01mand\u001B[39;00m result \u001B[38;5;129;01mis\u001B[39;00m \u001B[38;5;129;01mnot\u001B[39;00m \u001B[38;5;28;01mNone\u001B[39;00m:\n\u001B[1;32m    871\u001B[0m     \u001B[38;5;28;01mreturn\u001B[39;00m result\n",
      "File \u001B[0;32m~/opt/anaconda3/envs/SFDS/lib/python3.9/site-packages/pandas/core/apply.py:165\u001B[0m, in \u001B[0;36mApply.agg\u001B[0;34m(self)\u001B[0m\n\u001B[1;32m    162\u001B[0m kwargs \u001B[38;5;241m=\u001B[39m \u001B[38;5;28mself\u001B[39m\u001B[38;5;241m.\u001B[39mkwargs\n\u001B[1;32m    164\u001B[0m \u001B[38;5;28;01mif\u001B[39;00m \u001B[38;5;28misinstance\u001B[39m(arg, \u001B[38;5;28mstr\u001B[39m):\n\u001B[0;32m--> 165\u001B[0m     \u001B[38;5;28;01mreturn\u001B[39;00m \u001B[38;5;28;43mself\u001B[39;49m\u001B[38;5;241;43m.\u001B[39;49m\u001B[43mapply_str\u001B[49m\u001B[43m(\u001B[49m\u001B[43m)\u001B[49m\n\u001B[1;32m    167\u001B[0m \u001B[38;5;28;01mif\u001B[39;00m is_dict_like(arg):\n\u001B[1;32m    168\u001B[0m     \u001B[38;5;28;01mreturn\u001B[39;00m \u001B[38;5;28mself\u001B[39m\u001B[38;5;241m.\u001B[39magg_dict_like()\n",
      "File \u001B[0;32m~/opt/anaconda3/envs/SFDS/lib/python3.9/site-packages/pandas/core/apply.py:552\u001B[0m, in \u001B[0;36mApply.apply_str\u001B[0;34m(self)\u001B[0m\n\u001B[1;32m    550\u001B[0m     \u001B[38;5;28;01melif\u001B[39;00m \u001B[38;5;28mself\u001B[39m\u001B[38;5;241m.\u001B[39maxis \u001B[38;5;241m!=\u001B[39m \u001B[38;5;241m0\u001B[39m:\n\u001B[1;32m    551\u001B[0m         \u001B[38;5;28;01mraise\u001B[39;00m \u001B[38;5;167;01mValueError\u001B[39;00m(\u001B[38;5;124mf\u001B[39m\u001B[38;5;124m\"\u001B[39m\u001B[38;5;124mOperation \u001B[39m\u001B[38;5;132;01m{\u001B[39;00mf\u001B[38;5;132;01m}\u001B[39;00m\u001B[38;5;124m does not support axis=1\u001B[39m\u001B[38;5;124m\"\u001B[39m)\n\u001B[0;32m--> 552\u001B[0m \u001B[38;5;28;01mreturn\u001B[39;00m \u001B[38;5;28;43mself\u001B[39;49m\u001B[38;5;241;43m.\u001B[39;49m\u001B[43m_try_aggregate_string_function\u001B[49m\u001B[43m(\u001B[49m\u001B[43mobj\u001B[49m\u001B[43m,\u001B[49m\u001B[43m \u001B[49m\u001B[43mf\u001B[49m\u001B[43m,\u001B[49m\u001B[43m \u001B[49m\u001B[38;5;241;43m*\u001B[39;49m\u001B[38;5;28;43mself\u001B[39;49m\u001B[38;5;241;43m.\u001B[39;49m\u001B[43margs\u001B[49m\u001B[43m,\u001B[49m\u001B[43m \u001B[49m\u001B[38;5;241;43m*\u001B[39;49m\u001B[38;5;241;43m*\u001B[39;49m\u001B[38;5;28;43mself\u001B[39;49m\u001B[38;5;241;43m.\u001B[39;49m\u001B[43mkwargs\u001B[49m\u001B[43m)\u001B[49m\n",
      "File \u001B[0;32m~/opt/anaconda3/envs/SFDS/lib/python3.9/site-packages/pandas/core/apply.py:635\u001B[0m, in \u001B[0;36mApply._try_aggregate_string_function\u001B[0;34m(self, obj, arg, *args, **kwargs)\u001B[0m\n\u001B[1;32m    631\u001B[0m \u001B[38;5;28;01mif\u001B[39;00m f \u001B[38;5;129;01mis\u001B[39;00m \u001B[38;5;129;01mnot\u001B[39;00m \u001B[38;5;28;01mNone\u001B[39;00m \u001B[38;5;129;01mand\u001B[39;00m \u001B[38;5;28mhasattr\u001B[39m(obj, \u001B[38;5;124m\"\u001B[39m\u001B[38;5;124m__array__\u001B[39m\u001B[38;5;124m\"\u001B[39m):\n\u001B[1;32m    632\u001B[0m     \u001B[38;5;66;03m# in particular exclude Window\u001B[39;00m\n\u001B[1;32m    633\u001B[0m     \u001B[38;5;28;01mreturn\u001B[39;00m f(obj, \u001B[38;5;241m*\u001B[39margs, \u001B[38;5;241m*\u001B[39m\u001B[38;5;241m*\u001B[39mkwargs)\n\u001B[0;32m--> 635\u001B[0m \u001B[38;5;28;01mraise\u001B[39;00m \u001B[38;5;167;01mAttributeError\u001B[39;00m(\n\u001B[1;32m    636\u001B[0m     \u001B[38;5;124mf\u001B[39m\u001B[38;5;124m\"\u001B[39m\u001B[38;5;124m'\u001B[39m\u001B[38;5;132;01m{\u001B[39;00marg\u001B[38;5;132;01m}\u001B[39;00m\u001B[38;5;124m'\u001B[39m\u001B[38;5;124m is not a valid function for \u001B[39m\u001B[38;5;124m'\u001B[39m\u001B[38;5;132;01m{\u001B[39;00m\u001B[38;5;28mtype\u001B[39m(obj)\u001B[38;5;241m.\u001B[39m\u001B[38;5;18m__name__\u001B[39m\u001B[38;5;132;01m}\u001B[39;00m\u001B[38;5;124m'\u001B[39m\u001B[38;5;124m object\u001B[39m\u001B[38;5;124m\"\u001B[39m\n\u001B[1;32m    637\u001B[0m )\n",
      "\u001B[0;31mAttributeError\u001B[0m: 'unique_values' is not a valid function for 'DataFrameGroupBy' object"
     ]
    }
   ],
   "source": [
    "hnames = data[data[\"lng\"].isna()].groupby([\"hotel_name\"])[[\"hotel_name\", \"hotel_address\"]].agg(\"unique_values\")\n",
    "#hnames = pd.DataFrame(hnames, columns=[\"hotel_name\"])\n",
    "#hnames[\"lat\"] = hnames[\"hotel_name\"].apply(latitude_set)\n",
    "#hnames[\"lng\"] = hnames[\"hotel_name\"].apply(longitude_set)"
   ],
   "metadata": {
    "collapsed": false,
    "pycharm": {
     "name": "#%%\n"
    }
   }
  },
  {
   "cell_type": "code",
   "execution_count": 69,
   "outputs": [
    {
     "data": {
      "text/plain": "                                                    hotel_name  hotel_address\nhotel_name                                                                   \nAustria Trend Hotel Schloss Wilhelminenberg Wie...         194            194\nCity Hotel Deutschmeister, Austria                          93             93\nCordial Theaterhotel Wien, Austria                          57             57\nDerag Livinghotel Kaiser Franz Joseph Vienna, A...         147            147\nFleming s Selection Hotel Wien City, Austria               658            658\nHoliday Inn Paris Montmartre, France                        55             55\nHotel Advance, Spain                                        28             28\nHotel Atlanta, Austria                                     389            389\nHotel City Central, Austria                                563            563\nHotel Daniel Vienna, Austria                               245            245\nHotel Park Villa, Austria                                   61             61\nHotel Pension Baron am Schottentor, Austria                223            223\nMaison Albar Hotel Paris Op ra Diamond, France             290            290\nMercure Paris Gare Montparnasse, France                     37             37\nNH Collection Barcelona Podium, Spain                      146            146\nRenaissance Barcelona Hotel, Spain                          33             33\nRoomz Vienna, Austria                                       49             49",
      "text/html": "<div>\n<style scoped>\n    .dataframe tbody tr th:only-of-type {\n        vertical-align: middle;\n    }\n\n    .dataframe tbody tr th {\n        vertical-align: top;\n    }\n\n    .dataframe thead th {\n        text-align: right;\n    }\n</style>\n<table border=\"1\" class=\"dataframe\">\n  <thead>\n    <tr style=\"text-align: right;\">\n      <th></th>\n      <th>hotel_name</th>\n      <th>hotel_address</th>\n    </tr>\n    <tr>\n      <th>hotel_name</th>\n      <th></th>\n      <th></th>\n    </tr>\n  </thead>\n  <tbody>\n    <tr>\n      <th>Austria Trend Hotel Schloss Wilhelminenberg Wien, Austria</th>\n      <td>194</td>\n      <td>194</td>\n    </tr>\n    <tr>\n      <th>City Hotel Deutschmeister, Austria</th>\n      <td>93</td>\n      <td>93</td>\n    </tr>\n    <tr>\n      <th>Cordial Theaterhotel Wien, Austria</th>\n      <td>57</td>\n      <td>57</td>\n    </tr>\n    <tr>\n      <th>Derag Livinghotel Kaiser Franz Joseph Vienna, Austria</th>\n      <td>147</td>\n      <td>147</td>\n    </tr>\n    <tr>\n      <th>Fleming s Selection Hotel Wien City, Austria</th>\n      <td>658</td>\n      <td>658</td>\n    </tr>\n    <tr>\n      <th>Holiday Inn Paris Montmartre, France</th>\n      <td>55</td>\n      <td>55</td>\n    </tr>\n    <tr>\n      <th>Hotel Advance, Spain</th>\n      <td>28</td>\n      <td>28</td>\n    </tr>\n    <tr>\n      <th>Hotel Atlanta, Austria</th>\n      <td>389</td>\n      <td>389</td>\n    </tr>\n    <tr>\n      <th>Hotel City Central, Austria</th>\n      <td>563</td>\n      <td>563</td>\n    </tr>\n    <tr>\n      <th>Hotel Daniel Vienna, Austria</th>\n      <td>245</td>\n      <td>245</td>\n    </tr>\n    <tr>\n      <th>Hotel Park Villa, Austria</th>\n      <td>61</td>\n      <td>61</td>\n    </tr>\n    <tr>\n      <th>Hotel Pension Baron am Schottentor, Austria</th>\n      <td>223</td>\n      <td>223</td>\n    </tr>\n    <tr>\n      <th>Maison Albar Hotel Paris Op ra Diamond, France</th>\n      <td>290</td>\n      <td>290</td>\n    </tr>\n    <tr>\n      <th>Mercure Paris Gare Montparnasse, France</th>\n      <td>37</td>\n      <td>37</td>\n    </tr>\n    <tr>\n      <th>NH Collection Barcelona Podium, Spain</th>\n      <td>146</td>\n      <td>146</td>\n    </tr>\n    <tr>\n      <th>Renaissance Barcelona Hotel, Spain</th>\n      <td>33</td>\n      <td>33</td>\n    </tr>\n    <tr>\n      <th>Roomz Vienna, Austria</th>\n      <td>49</td>\n      <td>49</td>\n    </tr>\n  </tbody>\n</table>\n</div>"
     },
     "execution_count": 69,
     "metadata": {},
     "output_type": "execute_result"
    }
   ],
   "source": [
    "hnames\n"
   ],
   "metadata": {
    "collapsed": false,
    "pycharm": {
     "name": "#%%\n"
    }
   }
  },
  {
   "cell_type": "code",
   "execution_count": 131,
   "outputs": [],
   "source": [
    "def name_repair(name):\n",
    "    if name.startswith(\"Fleming s Selection\"):\n",
    "        return name.replace(\"Fleming s\", \"Flemings\")\n",
    "    elif name.startswith(\"Maison Albar Hotel\"):\n",
    "        return name.replace(\"Op ra\", \"Le\")\n",
    "    else:\n",
    "        return name\n",
    "data[\"hotel_name\"] = data[\"hotel_name\"].apply(name_repair)"
   ],
   "metadata": {
    "collapsed": false,
    "pycharm": {
     "name": "#%%\n"
    }
   }
  },
  {
   "cell_type": "code",
   "execution_count": 60,
   "metadata": {
    "execution": {
     "iopub.execute_input": "2022-07-14T15:39:38.900684Z",
     "iopub.status.busy": "2022-07-14T15:39:38.899636Z",
     "iopub.status.idle": "2022-07-14T15:39:40.117730Z",
     "shell.execute_reply": "2022-07-14T15:39:40.116643Z",
     "shell.execute_reply.started": "2022-07-14T15:39:38.900636Z"
    },
    "pycharm": {
     "name": "#%%\n"
    },
    "trusted": true
   },
   "outputs": [
    {
     "data": {
      "text/plain": "[48.1828462, 16.378647618524546]"
     },
     "execution_count": 60,
     "metadata": {},
     "output_type": "execute_result"
    }
   ],
   "source": [
    "#import geocoder\n",
    "g = geocoder.osm('Hotel Daniel Vienna')\n",
    "#d = geocoder.osm((45.5331778, 9.1710849), method='reverse', language=\"en\")\n",
    "g.latlng\n",
    "#d.address"
   ]
  },
  {
   "cell_type": "code",
   "execution_count": null,
   "metadata": {
    "execution": {
     "iopub.execute_input": "2022-07-14T12:44:03.580465Z",
     "iopub.status.busy": "2022-07-14T12:44:03.580038Z",
     "iopub.status.idle": "2022-07-14T12:44:03.618242Z",
     "shell.execute_reply": "2022-07-14T12:44:03.617406Z",
     "shell.execute_reply.started": "2022-07-14T12:44:03.580435Z"
    },
    "pycharm": {
     "name": "#%%\n"
    },
    "trusted": true
   },
   "outputs": [],
   "source": [
    "# Create a map\n",
    "m_1 = folium.Map(tiles='openstreetmap', zoom_start=7) # location=[42.32,-71.0589]\n",
    "\n",
    "for idx, row in data.head(30).iterrows():\n",
    "    Marker([row['lat'], row['lng']]).add_to(m_1)\n",
    "\n",
    "# Display the map\n",
    "m_1"
   ]
  },
  {
   "cell_type": "code",
   "execution_count": null,
   "metadata": {
    "pycharm": {
     "name": "#%%\n"
    },
    "trusted": true
   },
   "outputs": [],
   "source": [
    "data['lat'] = data['lat'].fillna(0, inplace=True)\n",
    "data['lng'] = data['lng'].fillna(0, inplace=True)"
   ]
  },
  {
   "cell_type": "code",
   "execution_count": null,
   "metadata": {
    "pycharm": {
     "name": "#%%\n"
    },
    "trusted": true
   },
   "outputs": [],
   "source": [
    "data.nunique(dropna=False)"
   ]
  },
  {
   "cell_type": "code",
   "execution_count": null,
   "metadata": {
    "pycharm": {
     "name": "#%%\n"
    },
    "trusted": true
   },
   "outputs": [],
   "source": [
    "plt.rcParams['figure.figsize'] = (15,10)\n",
    "sns.heatmap(data.drop(['sample'], axis=1).corr(), annot=True)"
   ]
  },
  {
   "cell_type": "code",
   "execution_count": null,
   "metadata": {
    "pycharm": {
     "name": "#%%\n"
    },
    "trusted": true
   },
   "outputs": [],
   "source": [
    "# убираем признаки которые еще не успели обработать, \n",
    "# модель на признаках с dtypes \"object\" обучаться не будет, просто выберим их и удалим\n",
    "object_columns = [s for s in data.columns if data[s].dtypes == 'object']\n",
    "data.drop(object_columns, axis = 1, inplace=True)"
   ]
  },
  {
   "cell_type": "code",
   "execution_count": null,
   "metadata": {
    "pycharm": {
     "name": "#%%\n"
    },
    "trusted": true
   },
   "outputs": [],
   "source": [
    "data.info()"
   ]
  },
  {
   "cell_type": "code",
   "execution_count": null,
   "metadata": {
    "pycharm": {
     "name": "#%%\n"
    },
    "trusted": true
   },
   "outputs": [],
   "source": [
    "# Теперь выделим тестовую часть\n",
    "train_data = data.query('sample == 1').drop(['sample'], axis=1)\n",
    "test_data = data.query('sample == 0').drop(['sample'], axis=1)\n",
    "\n",
    "y = train_data.reviewer_score.values            # наш таргет\n",
    "X = train_data.drop(['reviewer_score'], axis=1)"
   ]
  },
  {
   "cell_type": "code",
   "execution_count": null,
   "metadata": {
    "pycharm": {
     "name": "#%%\n"
    },
    "trusted": true
   },
   "outputs": [],
   "source": [
    "# Воспользуемся специальной функцие train_test_split для разбивки тестовых данных\n",
    "# выделим 20% данных на валидацию (параметр test_size)\n",
    "X_train, X_test, y_train, y_test = train_test_split(X, y, test_size=0.2, random_state=RANDOM_SEED)"
   ]
  },
  {
   "cell_type": "code",
   "execution_count": null,
   "metadata": {
    "pycharm": {
     "name": "#%%\n"
    },
    "trusted": true
   },
   "outputs": [],
   "source": [
    "# проверяем\n",
    "test_data.shape, train_data.shape, X.shape, X_train.shape, X_test.shape"
   ]
  },
  {
   "cell_type": "code",
   "execution_count": null,
   "metadata": {
    "pycharm": {
     "name": "#%%\n"
    },
    "trusted": true
   },
   "outputs": [],
   "source": [
    "# Импортируем необходимые библиотеки:\n",
    "from sklearn.ensemble import RandomForestRegressor # инструмент для создания и обучения модели\n",
    "from sklearn import metrics # инструменты для оценки точности модели"
   ]
  },
  {
   "cell_type": "code",
   "execution_count": null,
   "metadata": {
    "pycharm": {
     "name": "#%%\n"
    },
    "trusted": true
   },
   "outputs": [],
   "source": [
    "# Создаём модель (НАСТРОЙКИ НЕ ТРОГАЕМ)\n",
    "model = RandomForestRegressor(n_estimators=100, verbose=1, n_jobs=-1, random_state=RANDOM_SEED)"
   ]
  },
  {
   "cell_type": "code",
   "execution_count": null,
   "metadata": {
    "pycharm": {
     "name": "#%%\n"
    },
    "trusted": true
   },
   "outputs": [],
   "source": [
    "# Обучаем модель на тестовом наборе данных\n",
    "model.fit(X_train, y_train)\n",
    "\n",
    "# Используем обученную модель для предсказания рейтинга ресторанов в тестовой выборке.\n",
    "# Предсказанные значения записываем в переменную y_pred\n",
    "y_pred = model.predict(X_test)"
   ]
  },
  {
   "cell_type": "code",
   "execution_count": null,
   "metadata": {
    "pycharm": {
     "name": "#%%\n"
    },
    "trusted": true
   },
   "outputs": [],
   "source": [
    "# Сравниваем предсказанные значения (y_pred) с реальными (y_test), и смотрим насколько они в среднем отличаются\n",
    "# Метрика называется Mean Absolute Error (MAE) и показывает среднее отклонение предсказанных значений от фактических.\n",
    "print('MAPE:', metrics.mean_absolute_error(y_test, y_pred))"
   ]
  },
  {
   "cell_type": "code",
   "execution_count": null,
   "metadata": {
    "pycharm": {
     "name": "#%%\n"
    },
    "trusted": true
   },
   "outputs": [],
   "source": [
    "# в RandomForestRegressor есть возможность вывести самые важные признаки для модели\n",
    "plt.rcParams['figure.figsize'] = (10,10)\n",
    "feat_importances = pd.Series(model.feature_importances_, index=X.columns)\n",
    "feat_importances.nlargest(15).plot(kind='barh')"
   ]
  },
  {
   "cell_type": "code",
   "execution_count": null,
   "metadata": {
    "pycharm": {
     "name": "#%%\n"
    },
    "trusted": true
   },
   "outputs": [],
   "source": [
    "test_data.sample(10)"
   ]
  },
  {
   "cell_type": "code",
   "execution_count": null,
   "metadata": {
    "pycharm": {
     "name": "#%%\n"
    },
    "trusted": true
   },
   "outputs": [],
   "source": [
    "test_data = test_data.drop(['reviewer_score'], axis=1)"
   ]
  },
  {
   "cell_type": "code",
   "execution_count": null,
   "metadata": {
    "pycharm": {
     "name": "#%%\n"
    },
    "trusted": true
   },
   "outputs": [],
   "source": [
    "sample_submission"
   ]
  },
  {
   "cell_type": "code",
   "execution_count": null,
   "metadata": {
    "pycharm": {
     "name": "#%%\n"
    },
    "trusted": true
   },
   "outputs": [],
   "source": [
    "predict_submission = model.predict(test_data)"
   ]
  },
  {
   "cell_type": "code",
   "execution_count": null,
   "metadata": {
    "pycharm": {
     "name": "#%%\n"
    },
    "trusted": true
   },
   "outputs": [],
   "source": [
    "predict_submission"
   ]
  },
  {
   "cell_type": "code",
   "execution_count": null,
   "metadata": {
    "pycharm": {
     "name": "#%%\n"
    },
    "trusted": true
   },
   "outputs": [],
   "source": [
    "list(sample_submission)"
   ]
  },
  {
   "cell_type": "code",
   "execution_count": null,
   "metadata": {
    "pycharm": {
     "name": "#%%\n"
    },
    "trusted": true
   },
   "outputs": [],
   "source": [
    "sample_submission['reviewer_score'] = predict_submission\n",
    "sample_submission.to_csv('submission.csv', index=False)\n",
    "sample_submission.head(10)"
   ]
  },
  {
   "cell_type": "code",
   "execution_count": null,
   "metadata": {
    "pycharm": {
     "name": "#%%\n"
    }
   },
   "outputs": [],
   "source": []
  },
  {
   "cell_type": "code",
   "execution_count": null,
   "metadata": {
    "pycharm": {
     "name": "#%%\n"
    }
   },
   "outputs": [],
   "source": []
  },
  {
   "cell_type": "code",
   "execution_count": null,
   "metadata": {
    "pycharm": {
     "name": "#%%\n"
    }
   },
   "outputs": [],
   "source": []
  }
 ],
 "metadata": {
  "kernelspec": {
   "display_name": "Python 3.9.12 ('SFDS')",
   "language": "python",
   "name": "python3"
  },
  "language_info": {
   "codemirror_mode": {
    "name": "ipython",
    "version": 3
   },
   "file_extension": ".py",
   "mimetype": "text/x-python",
   "name": "python",
   "nbconvert_exporter": "python",
   "pygments_lexer": "ipython3",
   "version": "3.9.12"
  },
  "vscode": {
   "interpreter": {
    "hash": "d89846ac8ffb3ea5a952d2fe26300ea02b7da3628c474d0ba6501e6c11df53fe"
   }
  }
 },
 "nbformat": 4,
 "nbformat_minor": 4
}